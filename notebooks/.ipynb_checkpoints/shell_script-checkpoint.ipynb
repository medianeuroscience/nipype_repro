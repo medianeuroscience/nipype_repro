{
 "cells": [
  {
   "cell_type": "code",
   "execution_count": 22,
   "id": "dcc76a53-effd-45d6-ae3b-a74497d18a0d",
   "metadata": {
    "tags": []
   },
   "outputs": [],
   "source": [
    "%%bash\n",
    "#!/bin/bash\n",
    "\n",
    "# specify your output directory\n",
    "cd /home/yc/out/fsl/nipype_fsl_comp/shell_out/sub11_run01/\n",
    "\n",
    "# # use /opt/fsl-6.0.4/ to replace /usr/local/fsl/, if you have version 6.0.0 use /opt/fsl-6.0.0/\n",
    "# /opt/fsl-6.0.4/bin/fslmaths /home/yc/psy221e/hw2/flanker_original/sub-11/func/sub-11_task-flanker_run-1_bold prefiltered_func_data -odt float\n",
    "\n",
    "# /opt/fsl-6.0.4/bin/fslroi prefiltered_func_data example_func 73 1\n",
    "\n",
    "# /opt/fsl-6.0.4/bin/mcflirt -in prefiltered_func_data -out prefiltered_func_data_mcf -mats -plots -reffile example_func -rmsrel -rmsabs -spline_final\n",
    "\n",
    "# /bin/mkdir -p mc ; /bin/mv -f prefiltered_func_data_mcf.mat prefiltered_func_data_mcf.par prefiltered_func_data_mcf_abs.rms prefiltered_func_data_mcf_abs_mean.rms prefiltered_func_data_mcf_rel.rms prefiltered_func_data_mcf_rel_mean.rms mc\n",
    "\n",
    "# /opt/fsl-6.0.4/bin/fsl_tsplot -i prefiltered_func_data_mcf.par -t 'MCFLIRT estimated rotations (radians)' -u 1 --start=1 --finish=3 -a x,y,z -w 640 -h 144 -o rot.png \n",
    "\n",
    "# /opt/fsl-6.0.4/bin/fsl_tsplot -i prefiltered_func_data_mcf.par -t 'MCFLIRT estimated translations (mm)' -u 1 --start=4 --finish=6 -a x,y,z -w 640 -h 144 -o trans.png \n",
    "\n",
    "# /opt/fsl-6.0.4/bin/fsl_tsplot -i prefiltered_func_data_mcf_abs.rms,prefiltered_func_data_mcf_rel.rms -t 'MCFLIRT estimated mean displacement (mm)' -u 1 -w 640 -h 144 -a absolute,relative -o disp.png \n",
    "\n",
    "# /opt/fsl-6.0.4/bin/fslmaths prefiltered_func_data_mcf -Tmean mean_func\n",
    "\n",
    "# /opt/fsl-6.0.4/bin/bet2 mean_func mask -f 0.3 -n -m; /opt/fsl-6.0.4/bin/immv mask_mask mask\n",
    "\n",
    "# /opt/fsl-6.0.4/bin/fslmaths prefiltered_func_data_mcf -mas mask prefiltered_func_data_bet\n",
    "\n",
    "# /opt/fsl-6.0.4/bin/fslstats prefiltered_func_data_bet -p 2 -p 98\n",
    "\n",
    "# /opt/fsl-6.0.4/bin/fslmaths prefiltered_func_data_bet -thr 87.3492249 -Tmin -bin mask -odt char\n",
    "\n",
    "# /opt/fsl-6.0.4/bin/fslstats prefiltered_func_data_mcf -k mask -p 50\n",
    "\n",
    "# /opt/fsl-6.0.4/bin/fslmaths mask -dilF mask\n",
    "\n",
    "# /opt/fsl-6.0.4/bin/fslmaths prefiltered_func_data_mcf -mas mask prefiltered_func_data_thresh\n",
    "\n",
    "# /opt/fsl-6.0.4/bin/fslmaths prefiltered_func_data_thresh -Tmean mean_func\n",
    "\n",
    "# /opt/fsl-6.0.4/bin/susan prefiltered_func_data_thresh 546.600174 2.12314225053 3 1 1 mean_func 546.600174 prefiltered_func_data_smooth\n",
    "\n",
    "# /opt/fsl-6.0.4/bin/fslmaths prefiltered_func_data_smooth -mas mask prefiltered_func_data_smooth\n",
    "\n",
    "# /opt/fsl-6.0.4/bin/fslmaths prefiltered_func_data_smooth -mul 13.7211811425 prefiltered_func_data_intnorm\n",
    "\n",
    "# /opt/fsl-6.0.4/bin/fslmaths prefiltered_func_data_intnorm -Tmean tempMean\n",
    "\n",
    "# /opt/fsl-6.0.4/bin/fslmaths prefiltered_func_data_intnorm -bptf 25.0 -1 -add tempMean prefiltered_func_data_tempfilt\n",
    "\n",
    "# /opt/fsl-6.0.4/bin/imrm tempMean\n",
    "\n",
    "# /opt/fsl-6.0.4/bin/fslmaths prefiltered_func_data_tempfilt filtered_func_data\n",
    "\n",
    "/opt/fsl-6.0.4/bin/fslmaths filtered_func_data -Tmean mean_func\n",
    "\n",
    "# /bin/rm -rf prefiltered_func_data*"
   ]
  },
  {
   "cell_type": "code",
   "execution_count": null,
   "id": "addb0d3f-5242-4d4b-939a-30b3581b00b9",
   "metadata": {},
   "outputs": [],
   "source": []
  }
 ],
 "metadata": {
  "kernelspec": {
   "display_name": "Python 3",
   "language": "python",
   "name": "python3"
  },
  "language_info": {
   "codemirror_mode": {
    "name": "ipython",
    "version": 3
   },
   "file_extension": ".py",
   "mimetype": "text/x-python",
   "name": "python",
   "nbconvert_exporter": "python",
   "pygments_lexer": "ipython3",
   "version": "3.7.10"
  }
 },
 "nbformat": 4,
 "nbformat_minor": 5
}
