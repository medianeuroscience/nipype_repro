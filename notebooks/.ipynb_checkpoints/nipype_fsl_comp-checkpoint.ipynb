{
 "cells": [
  {
   "cell_type": "markdown",
   "metadata": {
    "tags": []
   },
   "source": [
    "# Working with FSL: GUI, BASH, and Docker Nipype"
   ]
  },
  {
   "cell_type": "markdown",
   "metadata": {},
   "source": [
    "_Written by Yibei Chen and Frederic Hopp_\n",
    "\n",
    "<mark>**Execute this notebook outside of the docker container**</mark>\n",
    "\n",
    "In this notebook we explore the outputs of a basic fMRI `Three Level GLM` pipeline in FSL and Nipype. Specifically, we do a quality control check to ensure that results produced by FSL via the Graphical User Interface (GUI) and an FSL worklow in `nipype` produce the same results. Since FSL overwrites outputs and only produces the final results, we used the corresponding `bash` commands to generate stepwise outputs.\n",
    "\n",
    "Importantly, we carry out all analyses in `20.04.2 LTS (Focal Fossa)` as we (and [others](https://www.frontiersin.org/articles/10.3389/fninf.2015.00012/full)) have found that FSL uses mathematical functions based on single-precision floating-point arithmetic whose implementations differ across operating systems. Hence, you cannot expect that your FSL results obtained in a MAC, Windows, or other Linux (e.g., neurodebian) OS will match the results/values that we report here. "
   ]
  },
  {
   "cell_type": "markdown",
   "metadata": {
    "tags": []
   },
   "source": [
    "# Comparison"
   ]
  },
  {
   "cell_type": "markdown",
   "metadata": {},
   "source": [
    "In the following, we use an fMRI dataset that used the Flanker task, which can be downloaded [here](https://openneuro.org/datasets/ds000102/versions/00001). We choose `run-1` of `subject-11` and run the preprocess (1) in FSL GUI (6.0.4), with (2) nipype and (3) FSL (6.0.4) command in the docker. Then we compare results from these three methods step by step.\n",
    "\n",
    "<mark>**Note:**</mark> When run FSL GUI, some output files will be overwritten. Therefore, we use FSL command (outside of the docker, the same system environment as FSL GUI) as an alternative so that we can get the output file and do the comparison at each step. To make sure that FSL command is a good alternative of FSL GUI, we compared the final output of them and found no differences."
   ]
  },
  {
   "cell_type": "code",
   "execution_count": 2,
   "metadata": {},
   "outputs": [
    {
     "name": "stderr",
     "output_type": "stream",
     "text": [
      "/home/yc/.conda/envs/nndb/lib/python3.7/site-packages/nilearn/datasets/__init__.py:96: FutureWarning: Fetchers from the nilearn.datasets module will be updated in version 0.9 to return python strings instead of bytes and Pandas dataframes instead of Numpy arrays.\n",
      "  \"Numpy arrays.\", FutureWarning)\n"
     ]
    }
   ],
   "source": [
    "import numpy as np\n",
    "from nltools.data import Brain_Data\n",
    "import matplotlib.pyplot as plt"
   ]
  },
  {
   "cell_type": "markdown",
   "metadata": {},
   "source": [
    "## Post-Preprocessing"
   ]
  },
  {
   "cell_type": "markdown",
   "metadata": {},
   "source": [
    "This post-preprocessing is conducted after `fMRIPrep`, within the first-level GLM process. All the comparisons for this part are on `sub-11`."
   ]
  },
  {
   "cell_type": "markdown",
   "metadata": {},
   "source": [
    "###  Step 1: Compare the result of img2float"
   ]
  },
  {
   "cell_type": "markdown",
   "metadata": {},
   "source": [
    "img2float is the first step in fsl\n",
    "\n",
    "In our **nipype** notebook, this corresponds to the node `img2float`\n",
    "\n",
    "In **fsl**, you can use terminal open a folder and use the command from your fsl logfile, for example:\n",
    "\n",
    "```\n",
    "/usr/local/fsl/bin/fslmaths /home/.../flanker/sub-11/func/sub-11_task-flanker_run-1_bold prefiltered_func_data -odt float\n",
    "```\n",
    "\n",
    "then it will generate a file called `prefiltered_func_data.nii.gz`"
   ]
  },
  {
   "cell_type": "code",
   "execution_count": 49,
   "metadata": {},
   "outputs": [],
   "source": [
    "# img2float result from fsl gui\n",
    "file_fsl_gui = '/srv/scratch/yc/fsl/nipype_fsl_comp/gui/sub11_run01/prefiltered_func_data.nii.gz'\n",
    "\n",
    "# img2float result from nipype\n",
    "file_fsl_nipype = '/srv/scratch/yc/fsl/hw2/level1/_subject_id_11/img2float/mapflow/_img2float0/sub-11_task-flanker_run-1_bold_dtype.nii.gz'"
   ]
  },
  {
   "cell_type": "code",
   "execution_count": 50,
   "metadata": {},
   "outputs": [
    {
     "name": "stdout",
     "output_type": "stream",
     "text": [
      "(146, 238955)\n",
      "(146, 238955)\n"
     ]
    }
   ],
   "source": [
    "brain_fsl_gui = Brain_Data(file_fsl_gui).data\n",
    "print(brain_fsl_gui.shape)\n",
    "brain_fsl_nipype = Brain_Data(file_fsl_nipype).data\n",
    "print(brain_fsl_nipype.shape)"
   ]
  },
  {
   "cell_type": "code",
   "execution_count": 52,
   "metadata": {},
   "outputs": [
    {
     "name": "stdout",
     "output_type": "stream",
     "text": [
      "0 voxels are different\n"
     ]
    }
   ],
   "source": [
    "diff = brain_fsl_gui - brain_fsl_nipype\n",
    "num_of_non_zeros = np.count_nonzero(diff)\n",
    "print(f\"{num_of_non_zeros} voxels are different\")"
   ]
  },
  {
   "cell_type": "markdown",
   "metadata": {},
   "source": [
    "###  Step 2: Compare the result of extractref"
   ]
  },
  {
   "cell_type": "markdown",
   "metadata": {},
   "source": [
    "extract the middle volume as the reference is the second step in fsl\n",
    "\n",
    "\n",
    "In our **nipype** notebook, this corresponds to the node `extractref`\n",
    "\n",
    "In **fsl**, you can use the command from your fsl logfile, for example:\n",
    "\n",
    "```\n",
    "/usr/local/fsl/bin/fslroi prefiltered_func_data example_func 73 1\n",
    "```\n",
    "\n",
    "then it will generate a file called `example_func.nii.gz`"
   ]
  },
  {
   "cell_type": "code",
   "execution_count": 17,
   "metadata": {},
   "outputs": [],
   "source": [
    "# extractref result from fsl gui\n",
    "file_fsl_gui = '/srv/scratch/yc/fsl/nipype_fsl_comp/gui/sub11_run01/example_func.nii.gz'\n",
    "\n",
    "# extractref result from nipype\n",
    "file_fsl_nipype = '/srv/scratch/yc/fsl/hw2/level1/_subject_id_11/extractref/mapflow/_extractref0/sub-11_task-flanker_run-1_bold_dtype_roi.nii.gz'"
   ]
  },
  {
   "cell_type": "code",
   "execution_count": 18,
   "metadata": {},
   "outputs": [
    {
     "name": "stdout",
     "output_type": "stream",
     "text": [
      "(238955,)\n",
      "(238955,)\n"
     ]
    }
   ],
   "source": [
    "brain_fsl_gui = Brain_Data(file_fsl_gui).data\n",
    "print(brain_fsl_gui.shape)\n",
    "brain_fsl_nipype = Brain_Data(file_fsl_nipype).data\n",
    "print(brain_fsl_nipype.shape)"
   ]
  },
  {
   "cell_type": "code",
   "execution_count": 21,
   "metadata": {},
   "outputs": [
    {
     "name": "stdout",
     "output_type": "stream",
     "text": [
      "0 voxels are different\n"
     ]
    }
   ],
   "source": [
    "diff = brain_fsl_gui - brain_fsl_nipype\n",
    "num_of_non_zeros = np.count_nonzero(diff)\n",
    "print(f\"{num_of_non_zeros} voxels are different\")"
   ]
  },
  {
   "cell_type": "markdown",
   "metadata": {},
   "source": [
    "###  Step 3: Compare the result motion correction"
   ]
  },
  {
   "cell_type": "markdown",
   "metadata": {},
   "source": [
    "Realign the functional runs to the middle volume of each run\n",
    "\n",
    "In our **nipype** notebook, this corresponds to the node `realign`\n",
    "\n",
    "In **fsl**, you can use the command from your fsl logfile, for example:\n",
    "\n",
    "```\n",
    "/usr/local/fsl/bin/mcflirt -in prefiltered_func_data -out prefiltered_func_data_mcf -mats -plots -reffile example_func -rmsrel -rmsabs -spline_final\n",
    "```\n",
    "\n",
    "In **fsl GUI**, it corresponds to\n",
    "\n",
    "![image](https://user-images.githubusercontent.com/20402800/125661408-9d6ed3a2-2537-44dd-879f-85181424b171.png)\n",
    "\n",
    "then it will generate a file called `prefiltered_func_data_mcf.nii.gz`"
   ]
  },
  {
   "cell_type": "code",
   "execution_count": 24,
   "metadata": {},
   "outputs": [],
   "source": [
    "# realign result from fsl gui\n",
    "file_fsl_gui = '/srv/scratch/yc/fsl/nipype_fsl_comp/gui/sub11_run01/prefiltered_func_data_mcf.nii.gz'\n",
    "\n",
    "# realign result from nipype\n",
    "file_fsl_nipype = '/srv/scratch/yc/fsl/hw2/level1/_subject_id_11/realign/mapflow/_realign0/sub-11_task-flanker_run-1_bold_dtype_mcf.nii.gz'"
   ]
  },
  {
   "cell_type": "code",
   "execution_count": 25,
   "metadata": {},
   "outputs": [
    {
     "name": "stdout",
     "output_type": "stream",
     "text": [
      "(146, 238955)\n",
      "(146, 238955)\n"
     ]
    }
   ],
   "source": [
    "brain_fsl_gui = Brain_Data(file_fsl_gui).data\n",
    "print(brain_fsl_gui.shape)\n",
    "brain_fsl_nipype = Brain_Data(file_fsl_nipype).data\n",
    "print(brain_fsl_nipype.shape)\n"
   ]
  },
  {
   "cell_type": "code",
   "execution_count": 26,
   "metadata": {},
   "outputs": [
    {
     "name": "stdout",
     "output_type": "stream",
     "text": [
      "0 voxels are different\n"
     ]
    }
   ],
   "source": [
    "diff = brain_fsl_gui - brain_fsl_nipype\n",
    "num_of_non_zeros = np.count_nonzero(diff)\n",
    "print(f\"{num_of_non_zeros} voxels are different\")"
   ]
  },
  {
   "cell_type": "markdown",
   "metadata": {},
   "source": [
    "###  Step 4: Compare the result of meanfunc"
   ]
  },
  {
   "cell_type": "markdown",
   "metadata": {},
   "source": [
    "Extract the mean volume of the functional run\n",
    "\n",
    "In our **nipype** notebook, this corresponds to the node `meanfunc`,\n",
    "\n",
    "<mark> Later, FSL applied other transformations on this meanfunc file without renaming, so if executing this step afterwards, results might be different. \n",
    "    Thus, we did not provide files for this step.</mark>\n",
    "\n",
    "\n",
    "In **fsl**, you can use the command from your fsl logfile, for example:\n",
    "\n",
    "```\n",
    "/usr/local/fsl/bin/fslmaths prefiltered_func_data_mcf -Tmean mean_func\n",
    "```\n",
    "\n",
    "then it will generate a file called `mask.nii.gz`"
   ]
  },
  {
   "cell_type": "code",
   "execution_count": 29,
   "metadata": {},
   "outputs": [],
   "source": [
    "# meanfunc result from fsl gui\n",
    "file_fsl_gui = '/srv/scratch/yc/fsl/nipype_fsl_comp/gui/sub11_run01/mean_func.nii.gz'\n",
    "\n",
    "# meanfunc result from nipype\n",
    "file_fsl_nipype = '/srv/scratch/yc/fsl/hw2/level1/_subject_id_11/meanfunc/mapflow/_meanfunc0/sub-11_task-flanker_run-1_bold_dtype_mcf_mean.nii.gz'"
   ]
  },
  {
   "cell_type": "code",
   "execution_count": 30,
   "metadata": {},
   "outputs": [
    {
     "name": "stdout",
     "output_type": "stream",
     "text": [
      "(238955,)\n",
      "(238955,)\n"
     ]
    }
   ],
   "source": [
    "brain_fsl_gui = Brain_Data(file_fsl_gui).data\n",
    "print(brain_fsl_gui.shape)\n",
    "brain_fsl_nipype = Brain_Data(file_fsl_nipype).data\n",
    "print(brain_fsl_nipype.shape)"
   ]
  },
  {
   "cell_type": "code",
   "execution_count": 31,
   "metadata": {},
   "outputs": [
    {
     "name": "stdout",
     "output_type": "stream",
     "text": [
      "0 voxels are different\n"
     ]
    }
   ],
   "source": [
    "diff = brain_fsl_gui - brain_fsl_nipype\n",
    "num_of_non_zeros = np.count_nonzero(diff)\n",
    "print(f\"{num_of_non_zeros} voxels are different\")"
   ]
  },
  {
   "cell_type": "markdown",
   "metadata": {},
   "source": [
    "###  Step 5: Compare the result of meanfuncmask"
   ]
  },
  {
   "cell_type": "markdown",
   "metadata": {},
   "source": [
    "Strip the skull from the mean functional to generate a mask\n",
    "\n",
    "In our **nipype** notebook, this corresponds to the node `meanfuncmask`,\n",
    "\n",
    "\n",
    "In **fsl**, you can use the command from your fsl logfile, for example:\n",
    "\n",
    "```\n",
    "/usr/local/fsl/bin/bet2 mean_func mask -f 0.3 -n -m; /usr/local/fsl/bin/immv mask_mask mask\n",
    "```\n",
    "\n",
    "then it will generate a file called `mask.nii.gz`\n",
    "\n",
    "<mark>\n",
    "    Later, FSL applied other transformations on this mask file without renaming, so if executing this step afterwards, results might be different. \n",
    "    Thus, we did not provide files for this step.\n",
    "</mark>"
   ]
  },
  {
   "cell_type": "code",
   "execution_count": 32,
   "metadata": {},
   "outputs": [],
   "source": [
    "# meanfuncmask result from fsl gui\n",
    "file_fsl_gui = '/srv/scratch/yc/fsl/nipype_fsl_comp/gui/sub11_run01/mask.nii.gz'\n",
    "\n",
    "# meanfuncmask result from nipype\n",
    "file_fsl_nipype = '/srv/scratch/yc/fsl/hw2/level1/_subject_id_11/meanfuncmask/mapflow/_meanfuncmask0/sub-11_task-flanker_run-1_bold_dtype_mcf_mean_brain_mask.nii.gz'"
   ]
  },
  {
   "cell_type": "code",
   "execution_count": 34,
   "metadata": {},
   "outputs": [
    {
     "name": "stderr",
     "output_type": "stream",
     "text": [
      "/usr/local/miniconda3/envs/naturalistic/lib/python3.7/site-packages/nilearn/image/resampling.py:527: UserWarning: Casting data from int16 to float32\n",
      "  warnings.warn(\"Casting data from %s to %s\" % (data.dtype.name, aux))\n",
      "/usr/local/miniconda3/envs/naturalistic/lib/python3.7/site-packages/nilearn/image/resampling.py:273: UserWarning: Resampling binary images with continuous or linear interpolation. This might lead to unexpected results. You might consider using nearest interpolation instead.\n",
      "  warnings.warn(\"Resampling binary images with continuous or \"\n"
     ]
    },
    {
     "name": "stdout",
     "output_type": "stream",
     "text": [
      "(238955,)\n"
     ]
    },
    {
     "name": "stderr",
     "output_type": "stream",
     "text": [
      "/usr/local/miniconda3/envs/naturalistic/lib/python3.7/site-packages/nilearn/image/resampling.py:527: UserWarning: Casting data from int16 to float32\n",
      "  warnings.warn(\"Casting data from %s to %s\" % (data.dtype.name, aux))\n",
      "/usr/local/miniconda3/envs/naturalistic/lib/python3.7/site-packages/nilearn/image/resampling.py:273: UserWarning: Resampling binary images with continuous or linear interpolation. This might lead to unexpected results. You might consider using nearest interpolation instead.\n",
      "  warnings.warn(\"Resampling binary images with continuous or \"\n"
     ]
    },
    {
     "name": "stdout",
     "output_type": "stream",
     "text": [
      "(238955,)\n"
     ]
    }
   ],
   "source": [
    "brain_fsl_gui = Brain_Data(file_fsl_gui).data\n",
    "print(brain_fsl_gui.shape)\n",
    "brain_fsl_nipype = Brain_Data(file_fsl_nipype).data\n",
    "print(brain_fsl_nipype.shape)"
   ]
  },
  {
   "cell_type": "code",
   "execution_count": 35,
   "metadata": {},
   "outputs": [
    {
     "name": "stdout",
     "output_type": "stream",
     "text": [
      "0 voxels are different\n"
     ]
    }
   ],
   "source": [
    "diff = brain_fsl_gui - brain_fsl_nipype\n",
    "num_of_non_zeros = np.count_nonzero(diff)\n",
    "print(f\"{num_of_non_zeros} voxels are different\")"
   ]
  },
  {
   "cell_type": "markdown",
   "metadata": {},
   "source": [
    "###  Step 6: Compare the result of maskfunc"
   ]
  },
  {
   "cell_type": "markdown",
   "metadata": {},
   "source": [
    "Mask the functional runs with the extracted mask\n",
    "\n",
    "In our **nipype** notebook, this corresponds to the node `maskfunc`,\n",
    "\n",
    "\n",
    "In **fsl**, you can use the command from your fsl logfile, for example:\n",
    "\n",
    "```\n",
    "/usr/local/fsl/bin/fslmaths prefiltered_func_data_mcf -mas mask prefiltered_func_data_bet\n",
    "```\n",
    "\n",
    "In **fsl GUI**, it corresponds to \n",
    "\n",
    "![image](https://user-images.githubusercontent.com/20402800/125662332-488fddef-1950-48b5-af4d-6f3befffd24e.png)\n",
    "\n",
    "then it will generate a file called `prefiltered_func_data_bet.nii.gz`"
   ]
  },
  {
   "cell_type": "code",
   "execution_count": 36,
   "metadata": {},
   "outputs": [],
   "source": [
    "# maskfunc result from fsl gui\n",
    "file_fsl_gui = '/srv/scratch/yc/fsl/nipype_fsl_comp/gui/sub11_run01/prefiltered_func_data_bet.nii.gz'\n",
    "\n",
    "# maskfunc result from nipype\n",
    "file_fsl_nipype = '/srv/scratch/yc/fsl/hw2/level1/_subject_id_11/maskfunc/mapflow/_maskfunc0/sub-11_task-flanker_run-1_bold_dtype_mcf_bet.nii.gz'"
   ]
  },
  {
   "cell_type": "code",
   "execution_count": 37,
   "metadata": {},
   "outputs": [
    {
     "name": "stdout",
     "output_type": "stream",
     "text": [
      "(146, 238955)\n",
      "(146, 238955)\n"
     ]
    }
   ],
   "source": [
    "brain_fsl_gui = Brain_Data(file_fsl_gui).data\n",
    "print(brain_fsl_gui.shape)\n",
    "brain_fsl_nipype = Brain_Data(file_fsl_nipype).data\n",
    "print(brain_fsl_nipype.shape)"
   ]
  },
  {
   "cell_type": "code",
   "execution_count": 38,
   "metadata": {},
   "outputs": [
    {
     "name": "stdout",
     "output_type": "stream",
     "text": [
      "0 voxels are different\n"
     ]
    }
   ],
   "source": [
    "diff = brain_fsl_gui - brain_fsl_nipype\n",
    "num_of_non_zeros = np.count_nonzero(diff)\n",
    "print(f\"{num_of_non_zeros} voxels are different\")"
   ]
  },
  {
   "cell_type": "markdown",
   "metadata": {},
   "source": [
    "###  Step 7: Compare the result of thresholding"
   ]
  },
  {
   "cell_type": "markdown",
   "metadata": {},
   "source": [
    "7.1: Determine the 2nd and 98th percentile intensities of each functional run. It will return two numbers, which will be used in the following step.\n",
    "\n",
    "7.2: Threshold the first run of the functional data at 10% of the 98th percentile\n",
    "\n",
    "In our **nipype** notebook, this corresponds to the node `getthreshold` & `threshold`,\n",
    "\n",
    "\n",
    "In **fsl**, you can use the command from your fsl logfile, for example:\n",
    "\n",
    "```\n",
    "/usr/local/fsl/bin/fslstats prefiltered_func_data_bet -p 2 -p 98\n",
    "0.000000 873.492249 (these numbers are for subject-11 run-01)\n",
    "/usr/local/fsl/bin/fslmaths prefiltered_func_data_bet -thr 87.3492249 -Tmin -bin mask -odt char\n",
    "```\n",
    "\n",
    "All steps perform on `mask.nii.gz`\n",
    "\n",
    "**GUI**, **nipype**, **FSL docker script** all generate the same result in Step 1 (e.g., 0.000000 873.492249)\n",
    "\n",
    "<mark>\n",
    "    Later, FSL applied other transformations on this mask file without renaming, so if executing this step afterwards, results might be different. \n",
    "    Thus, we did not provide files for this step.\n",
    "</mark>"
   ]
  },
  {
   "cell_type": "code",
   "execution_count": 39,
   "metadata": {},
   "outputs": [],
   "source": [
    "# thresholding result from fsl gui\n",
    "file_fsl_gui = '/srv/scratch/yc/fsl/nipype_fsl_comp/gui/sub11_run01/mask.nii.gz'\n",
    "\n",
    "# thresholding result from nipype\n",
    "file_fsl_nipype = '/srv/scratch/yc/fsl/hw2/level1/_subject_id_11/threshold/mapflow/_threshold0/sub-11_task-flanker_run-1_bold_dtype_mcf_bet_thresh.nii.gz'"
   ]
  },
  {
   "cell_type": "code",
   "execution_count": 41,
   "metadata": {},
   "outputs": [
    {
     "name": "stderr",
     "output_type": "stream",
     "text": [
      "/usr/local/miniconda3/envs/naturalistic/lib/python3.7/site-packages/nilearn/image/resampling.py:273: UserWarning: Resampling binary images with continuous or linear interpolation. This might lead to unexpected results. You might consider using nearest interpolation instead.\n",
      "  warnings.warn(\"Resampling binary images with continuous or \"\n"
     ]
    },
    {
     "name": "stdout",
     "output_type": "stream",
     "text": [
      "(238955,)\n"
     ]
    },
    {
     "name": "stderr",
     "output_type": "stream",
     "text": [
      "/usr/local/miniconda3/envs/naturalistic/lib/python3.7/site-packages/nilearn/image/resampling.py:273: UserWarning: Resampling binary images with continuous or linear interpolation. This might lead to unexpected results. You might consider using nearest interpolation instead.\n",
      "  warnings.warn(\"Resampling binary images with continuous or \"\n"
     ]
    },
    {
     "name": "stdout",
     "output_type": "stream",
     "text": [
      "(238955,)\n"
     ]
    }
   ],
   "source": [
    "brain_fsl_gui = Brain_Data(file_fsl_gui).data\n",
    "print(brain_fsl_gui.shape)\n",
    "brain_fsl_nipype = Brain_Data(file_fsl_nipype).data\n",
    "print(brain_fsl_nipype.shape)"
   ]
  },
  {
   "cell_type": "code",
   "execution_count": 42,
   "metadata": {},
   "outputs": [
    {
     "name": "stdout",
     "output_type": "stream",
     "text": [
      "0 voxels are different\n"
     ]
    }
   ],
   "source": [
    "diff = brain_fsl_gui - brain_fsl_nipype\n",
    "num_of_non_zeros = np.count_nonzero(diff)\n",
    "print(f\"{num_of_non_zeros} voxels are different\")"
   ]
  },
  {
   "cell_type": "markdown",
   "metadata": {},
   "source": [
    "###  Step 8: Compare the result of dilate the mask"
   ]
  },
  {
   "cell_type": "markdown",
   "metadata": {},
   "source": [
    "Use the threshold from **Step 7** to dilate the mask\n",
    "\n",
    "In our **nipype** notebook, this corresponds to the node `dilatemask`,\n",
    "\n",
    "\n",
    "In **fsl**, you can use the command from your fsl logfile, for example:\n",
    "\n",
    "```\n",
    "/usr/local/fsl/bin/fslmaths mask -dilF mask\n",
    "```\n",
    "\n",
    "All steps perform on `mask.nii.gz`"
   ]
  },
  {
   "cell_type": "code",
   "execution_count": 45,
   "metadata": {},
   "outputs": [],
   "source": [
    "# dilatemask result from fsl gui\n",
    "file_fsl_gui = '/srv/scratch/yc/fsl/nipype_fsl_comp/gui/sub11_run01/mask.nii.gz'\n",
    "\n",
    "# dilatemask result from nipype\n",
    "file_fsl_nipype = '/srv/scratch/yc/fsl/hw2/level1/_subject_id_11/dilatemask/mapflow/_dilatemask0/sub-11_task-flanker_run-1_bold_dtype_mcf_bet_thresh_dil.nii.gz'"
   ]
  },
  {
   "cell_type": "code",
   "execution_count": 46,
   "metadata": {},
   "outputs": [
    {
     "name": "stderr",
     "output_type": "stream",
     "text": [
      "/usr/local/miniconda3/envs/naturalistic/lib/python3.7/site-packages/nilearn/image/resampling.py:273: UserWarning: Resampling binary images with continuous or linear interpolation. This might lead to unexpected results. You might consider using nearest interpolation instead.\n",
      "  warnings.warn(\"Resampling binary images with continuous or \"\n"
     ]
    },
    {
     "name": "stdout",
     "output_type": "stream",
     "text": [
      "(238955,)\n"
     ]
    },
    {
     "name": "stderr",
     "output_type": "stream",
     "text": [
      "/usr/local/miniconda3/envs/naturalistic/lib/python3.7/site-packages/nilearn/image/resampling.py:273: UserWarning: Resampling binary images with continuous or linear interpolation. This might lead to unexpected results. You might consider using nearest interpolation instead.\n",
      "  warnings.warn(\"Resampling binary images with continuous or \"\n"
     ]
    },
    {
     "name": "stdout",
     "output_type": "stream",
     "text": [
      "(238955,)\n"
     ]
    }
   ],
   "source": [
    "brain_fsl_gui = Brain_Data(file_fsl_gui).data\n",
    "print(brain_fsl_gui.shape)\n",
    "brain_fsl_nipype = Brain_Data(file_fsl_nipype).data\n",
    "print(brain_fsl_nipype.shape)"
   ]
  },
  {
   "cell_type": "code",
   "execution_count": 47,
   "metadata": {},
   "outputs": [
    {
     "name": "stdout",
     "output_type": "stream",
     "text": [
      "0 voxels are different\n"
     ]
    }
   ],
   "source": [
    "diff = brain_fsl_gui - brain_fsl_nipype\n",
    "num_of_non_zeros = np.count_nonzero(diff)\n",
    "print(f\"{num_of_non_zeros} voxels are different\")"
   ]
  },
  {
   "cell_type": "markdown",
   "metadata": {},
   "source": [
    "###  Step 9: Compare the result of maskfunc2"
   ]
  },
  {
   "cell_type": "markdown",
   "metadata": {},
   "source": [
    "Mask the motion corrected functional runs with the dilated mask\n",
    "\n",
    "In our **nipype** notebook, this corresponds to the node `maskfunc2`,\n",
    "\n",
    "\n",
    "In **fsl**, you can use the command from your fsl logfile, for example:\n",
    "\n",
    "```\n",
    "/opt/fsl-6.0.4/bin/fslmaths prefiltered_func_data_mcf -mas mask prefiltered_func_data_thresh\n",
    "```\n",
    "\n",
    "Output file: `prefiltered_func_data_thresh.nii.gz`"
   ]
  },
  {
   "cell_type": "code",
   "execution_count": 48,
   "metadata": {},
   "outputs": [],
   "source": [
    "# maskfunc2 result from fsl gui\n",
    "file_fsl_gui = '/srv/scratch/yc/fsl/nipype_fsl_comp/gui/sub11_run01/prefiltered_func_data_thresh.nii.gz'\n",
    "\n",
    "# maskfunc2 result from nipype\n",
    "file_fsl_nipype = '/srv/scratch/yc/fsl/hw2/level1/_subject_id_11/maskfunc2/mapflow/_maskfunc20/sub-11_task-flanker_run-1_bold_dtype_mcf_thresh.nii.gz'"
   ]
  },
  {
   "cell_type": "code",
   "execution_count": 50,
   "metadata": {},
   "outputs": [
    {
     "name": "stdout",
     "output_type": "stream",
     "text": [
      "(146, 238955)\n",
      "(146, 238955)\n"
     ]
    }
   ],
   "source": [
    "brain_fsl_gui = Brain_Data(file_fsl_gui).data\n",
    "print(brain_fsl_gui.shape)\n",
    "brain_fsl_nipype = Brain_Data(file_fsl_nipype).data\n",
    "print(brain_fsl_nipype.shape)"
   ]
  },
  {
   "cell_type": "code",
   "execution_count": 51,
   "metadata": {},
   "outputs": [
    {
     "name": "stdout",
     "output_type": "stream",
     "text": [
      "0 voxels are different\n"
     ]
    }
   ],
   "source": [
    "diff = brain_fsl_gui - brain_fsl_nipype\n",
    "num_of_non_zeros = np.count_nonzero(diff)\n",
    "print(f\"{num_of_non_zeros} voxels are different\")"
   ]
  },
  {
   "cell_type": "markdown",
   "metadata": {},
   "source": [
    "###  Step 10: Compare the result of SUSAN Noise Reduction"
   ]
  },
  {
   "cell_type": "markdown",
   "metadata": {},
   "source": [
    "10.1: Determine the mean image from each TR\n",
    "\n",
    "10.2: Determine the median value of the TRs using the mask\n",
    "\n",
    "10.3: Merge the median values with the mean functional images into a coupled list. The output of this merge node will go into susan as usans\n",
    "\n",
    "10.4: Smooth each run using SUSAN with the brightness threshold set to 75% of the median value for each run and a mask constituting the mean functional\n",
    "\n",
    "\n",
    "Mask the motion corrected functional runs with the dilated mask\n",
    "\n",
    "In our **nipype** notebook, this corresponds to the node `meanfunc2`, `medianval`, `mergenode`, & `smooth`\n",
    "\n",
    "\n",
    "In **fsl**, you can use the command from your fsl logfile, for example:\n",
    "\n",
    "```\n",
    "/usr/local/fsl/bin/fslmaths prefiltered_func_data_thresh -Tmean mean_func\n",
    "\n",
    "/usr/local/fsl/bin/fslstats prefiltered_func_data_mcf -k mask -p 50\n",
    "728.800232 (this number is for subject-11 run-01)\n",
    "\n",
    "/usr/local/fsl/bin/susan prefiltered_func_data_thresh 546.600174 2.12314225053 3 1 1 mean_func 546.600174 prefiltered_func_data_smooth\n",
    "\n",
    "```\n",
    "In **fsl GUI**, it corresponds to \n",
    "\n",
    "![image](https://user-images.githubusercontent.com/20402800/125663421-302ddfb6-9438-4e8d-aa7a-48200416722f.png)\n",
    "\n",
    "\n",
    "Output file: `prefiltered_func_data_smooth.nii.gz`"
   ]
  },
  {
   "cell_type": "markdown",
   "metadata": {},
   "source": [
    "####  Step 10.1: Determine the mean image from each TR\n",
    "\n",
    "Output file: `mean_func.nii.gz`"
   ]
  },
  {
   "cell_type": "code",
   "execution_count": 52,
   "metadata": {},
   "outputs": [],
   "source": [
    "# meanfunc2 result from fsl gui\n",
    "file_fsl_gui = '/srv/scratch/yc/fsl/nipype_fsl_comp/gui/sub11_run01/mean_func.nii.gz'\n",
    "\n",
    "# meanfunc2 result from nipype\n",
    "file_fsl_nipype = '/srv/scratch/yc/fsl/hw2/level1/_subject_id_11/meanfunc2/mapflow/_meanfunc20/sub-11_task-flanker_run-1_bold_dtype_mcf_thresh_mean.nii.gz'"
   ]
  },
  {
   "cell_type": "code",
   "execution_count": 53,
   "metadata": {},
   "outputs": [
    {
     "name": "stdout",
     "output_type": "stream",
     "text": [
      "(238955,)\n",
      "(238955,)\n"
     ]
    }
   ],
   "source": [
    "brain_fsl_gui = Brain_Data(file_fsl_gui).data\n",
    "print(brain_fsl_gui.shape)\n",
    "brain_fsl_nipype = Brain_Data(file_fsl_nipype).data\n",
    "print(brain_fsl_nipype.shape)"
   ]
  },
  {
   "cell_type": "code",
   "execution_count": 54,
   "metadata": {},
   "outputs": [
    {
     "name": "stdout",
     "output_type": "stream",
     "text": [
      "0 voxels are different\n"
     ]
    }
   ],
   "source": [
    "diff = brain_fsl_gui - brain_fsl_nipype\n",
    "num_of_non_zeros = np.count_nonzero(diff)\n",
    "print(f\"{num_of_non_zeros} voxels are different\")"
   ]
  },
  {
   "cell_type": "markdown",
   "metadata": {},
   "source": [
    "#### Step 10.2 & Step 10.3 \n",
    "\n",
    "These two steps generating parameters which are used in the next step, so no file comparison."
   ]
  },
  {
   "cell_type": "markdown",
   "metadata": {},
   "source": [
    "####  Step 10.4: SUSAN Smoothing\n",
    "\n",
    "Output file: `prefiltered_func_data_smooth.nii.gz`\n",
    "\n",
    "<mark>\n",
    "    Later, FSL applied other transformations on this smoothed file without renaming, so if executing this step afterwards, results might be different. \n",
    "    Thus, we did not provide files for this step.\n",
    "</mark>"
   ]
  },
  {
   "cell_type": "code",
   "execution_count": 88,
   "metadata": {},
   "outputs": [],
   "source": [
    "# smooth result from fsl gui\n",
    "file_fsl_gui = '/srv/scratch/yc/fsl/nipype_fsl_comp/gui/sub11_run01/prefiltered_func_data_smooth.nii.gz'\n",
    "\n",
    "# smooth result from nipype\n",
    "file_fsl_nipype = '/srv/scratch/yc/fsl/hw2/level1/_subject_id_11/smooth/mapflow/_smooth1/sub-11_task-flanker_run-2_bold_dtype_mcf_thresh_smooth.nii.gz'"
   ]
  },
  {
   "cell_type": "code",
   "execution_count": 89,
   "metadata": {},
   "outputs": [
    {
     "name": "stdout",
     "output_type": "stream",
     "text": [
      "(146, 238955)\n",
      "(146, 238955)\n"
     ]
    }
   ],
   "source": [
    "brain_fsl_gui = Brain_Data(file_fsl_gui).data\n",
    "print(brain_fsl_gui.shape)\n",
    "brain_fsl_nipype = Brain_Data(file_fsl_nipype).data\n",
    "print(brain_fsl_nipype.shape)"
   ]
  },
  {
   "cell_type": "code",
   "execution_count": 90,
   "metadata": {},
   "outputs": [
    {
     "name": "stdout",
     "output_type": "stream",
     "text": [
      "0 voxels are different\n"
     ]
    }
   ],
   "source": [
    "diff = brain_fsl_gui - brain_fsl_nipype\n",
    "num_of_non_zeros = np.count_nonzero(diff)\n",
    "print(f\"{num_of_non_zeros} voxels are different\")"
   ]
  },
  {
   "cell_type": "markdown",
   "metadata": {},
   "source": [
    "###  Step 11: Compare the result of maskfunc3"
   ]
  },
  {
   "cell_type": "markdown",
   "metadata": {},
   "source": [
    "Mask the smoothed data with the dilated mask\n",
    "\n",
    "In our **nipype** notebook, this corresponds to the node `maskfunc3`\n",
    "\n",
    "\n",
    "In **fsl**, you can use the command from your fsl logfile, for example:\n",
    "\n",
    "```\n",
    "/usr/local/fsl/bin/fslmaths prefiltered_func_data_smooth -mas mask prefiltered_func_data_smooth\n",
    "\n",
    "```\n",
    "\n",
    "This step performs on `prefiltered_func_data_smooth.nii.gz`"
   ]
  },
  {
   "cell_type": "code",
   "execution_count": 91,
   "metadata": {},
   "outputs": [],
   "source": [
    "# thresholding result from fsl gui\n",
    "file_fsl_gui = '/srv/scratch/yc/fsl/nipype_fsl_comp/gui/sub11_run01/prefiltered_func_data_smooth.nii.gz'\n",
    "\n",
    "# thresholding result from nipype\n",
    "file_fsl_nipype = '/srv/scratch/yc/fsl/hw2/level1/_subject_id_11/maskfunc3/mapflow/_maskfunc30/sub-11_task-flanker_run-1_bold_dtype_mcf_thresh_smooth_maths.nii.gz'"
   ]
  },
  {
   "cell_type": "code",
   "execution_count": 92,
   "metadata": {},
   "outputs": [
    {
     "name": "stdout",
     "output_type": "stream",
     "text": [
      "(146, 238955)\n",
      "(146, 238955)\n"
     ]
    }
   ],
   "source": [
    "brain_fsl_gui = Brain_Data(file_fsl_gui).data\n",
    "print(brain_fsl_gui.shape)\n",
    "brain_fsl_nipype = Brain_Data(file_fsl_nipype).data\n",
    "print(brain_fsl_nipype.shape)"
   ]
  },
  {
   "cell_type": "code",
   "execution_count": 93,
   "metadata": {},
   "outputs": [
    {
     "name": "stdout",
     "output_type": "stream",
     "text": [
      "0 voxels are different\n"
     ]
    }
   ],
   "source": [
    "diff = brain_fsl_gui - brain_fsl_nipype\n",
    "num_of_non_zeros = np.count_nonzero(diff)\n",
    "print(f\"{num_of_non_zeros} voxels are different\")"
   ]
  },
  {
   "cell_type": "markdown",
   "metadata": {},
   "source": [
    "###  Step 12: Compare the result of intnorm"
   ]
  },
  {
   "cell_type": "markdown",
   "metadata": {},
   "source": [
    "Scale each volume of the run so that the median value of the run is set to 10000\n",
    "\n",
    "\n",
    "In our **nipype** notebook, this corresponds to the node `intnorm`\n",
    "\n",
    "\n",
    "In **fsl**, you can use the command from your fsl logfile, for example:\n",
    "\n",
    "```\n",
    "/usr/local/fsl/bin/fslmaths prefiltered_func_data_smooth -mul 13.7211811425 prefiltered_func_data_intnorm \n",
    "(this number is for subject-11 run-01)\n",
    "\n",
    "```\n",
    "\n",
    "Output file: `prefiltered_func_data_intnorm.nii.gz`"
   ]
  },
  {
   "cell_type": "code",
   "execution_count": 61,
   "metadata": {},
   "outputs": [],
   "source": [
    "# intnorm result from fsl gui\n",
    "file_fsl_gui = '/srv/scratch/yc/fsl/nipype_fsl_comp/gui/sub11_run01/prefiltered_func_data_intnorm.nii.gz'\n",
    "\n",
    "# intnorm result from nipype\n",
    "file_fsl_nipype = '/srv/scratch/yc/fsl/hw2/level1/_subject_id_11/intnorm/mapflow/_intnorm0/sub-11_task-flanker_run-1_bold_dtype_mcf_thresh_smooth_maths_intnorm.nii.gz'"
   ]
  },
  {
   "cell_type": "code",
   "execution_count": 62,
   "metadata": {},
   "outputs": [
    {
     "name": "stdout",
     "output_type": "stream",
     "text": [
      "(146, 238955)\n",
      "(146, 238955)\n"
     ]
    }
   ],
   "source": [
    "brain_fsl_gui = Brain_Data(file_fsl_gui).data\n",
    "print(brain_fsl_gui.shape)\n",
    "brain_fsl_nipype = Brain_Data(file_fsl_nipype).data\n",
    "print(brain_fsl_nipype.shape)"
   ]
  },
  {
   "cell_type": "code",
   "execution_count": 63,
   "metadata": {},
   "outputs": [
    {
     "name": "stdout",
     "output_type": "stream",
     "text": [
      "0 voxels are different\n"
     ]
    }
   ],
   "source": [
    "diff = brain_fsl_gui - brain_fsl_nipype\n",
    "num_of_non_zeros = np.count_nonzero(diff)\n",
    "print(f\"{num_of_non_zeros} voxels are different\")"
   ]
  },
  {
   "cell_type": "markdown",
   "metadata": {},
   "source": [
    "###  Step 13: Compare the result of Temporal Filtering (last step of preproc)"
   ]
  },
  {
   "cell_type": "markdown",
   "metadata": {},
   "source": [
    "13.1: Generate a mean functional image from the scaled data\n",
    "\n",
    "13.2: Perform temporal highpass filtering on the data\n",
    "\n",
    "13.3: Rename `prefiltered_func_data_tempfilt.nii.gz` as `filtered_func_data.nii.gz`\n",
    "\n",
    "\n",
    "In our **nipype** notebook, this corresponds to the node `intnorm`\n",
    "\n",
    "\n",
    "In **fsl**, you can use the command from your fsl logfile, for example:\n",
    "\n",
    "```\n",
    "/usr/local/fsl/bin/fslmaths prefiltered_func_data_intnorm -Tmean tempMean\n",
    "/usr/local/fsl/bin/fslmaths prefiltered_func_data_intnorm -bptf 25.0 -1 -add tempMean prefiltered_func_data_tempfilt\n",
    "/usr/local/fsl/bin/fslmaths prefiltered_func_data_tempfilt filtered_func_data\n",
    "\n",
    "```\n",
    "\n",
    "In **fsl GUI**, it corresponds to\n",
    "\n",
    "![image](https://user-images.githubusercontent.com/20402800/125667188-68e8000e-307b-42e9-804a-c4b6dffa36a5.png)\n",
    "\n",
    "Output file: `filtered_func_data.nii.gz` (**This is our final preoprocessed bold data**)"
   ]
  },
  {
   "cell_type": "markdown",
   "metadata": {},
   "source": [
    "#### 13.1: Generate a mean functional image from the scaled data\n",
    "\n",
    "Output file: `tempMean.nii.gz`\n",
    "\n",
    "(You can also skip this step if you'd like since this file will be removed at the end of the preprocessing)"
   ]
  },
  {
   "cell_type": "code",
   "execution_count": 97,
   "metadata": {},
   "outputs": [],
   "source": [
    "# thresholding result from fsl gui\n",
    "file_fsl_gui = '/srv/scratch/yc/fsl/nipype_fsl_comp/gui/sub11_run01/tempMean.nii.gz'\n",
    "\n",
    "# thresholding result from nipype\n",
    "file_fsl_nipype = '/srv/scratch/yc/fsl/hw2/level1/_subject_id_11/meanfunc3/mapflow/_meanfunc30/sub-11_task-flanker_run-1_bold_dtype_mcf_thresh_smooth_maths_intnorm_maths.nii.gz'"
   ]
  },
  {
   "cell_type": "code",
   "execution_count": 98,
   "metadata": {},
   "outputs": [
    {
     "name": "stdout",
     "output_type": "stream",
     "text": [
      "(238955,)\n",
      "(238955,)\n"
     ]
    }
   ],
   "source": [
    "brain_fsl_gui = Brain_Data(file_fsl_gui).data\n",
    "print(brain_fsl_gui.shape)\n",
    "brain_fsl_nipype = Brain_Data(file_fsl_nipype).data\n",
    "print(brain_fsl_nipype.shape)"
   ]
  },
  {
   "cell_type": "code",
   "execution_count": 99,
   "metadata": {},
   "outputs": [
    {
     "name": "stdout",
     "output_type": "stream",
     "text": [
      "0 voxels are different\n"
     ]
    }
   ],
   "source": [
    "diff = brain_fsl_gui - brain_fsl_nipype\n",
    "num_of_non_zeros = np.count_nonzero(diff)\n",
    "print(f\"{num_of_non_zeros} voxels are different\")"
   ]
  },
  {
   "cell_type": "markdown",
   "metadata": {},
   "source": [
    "#### 13.2 & 13.3: Perform temporal highpass filtering on the data & Rename\n",
    "\n",
    "\n",
    "Output file: `prefiltered_func_data_tempfilt.nii.gz`"
   ]
  },
  {
   "cell_type": "code",
   "execution_count": 79,
   "metadata": {},
   "outputs": [],
   "source": [
    "# thresholding result from fsl gui\n",
    "file_fsl_gui = '/srv/scratch/yc/fsl/nipype_fsl_comp/gui/sub06_run02/filtered_func_data.nii.gz'\n",
    "\n",
    "# thresholding result from nipype\n",
    "file_fsl_nipype = '/srv/scratch/yc/fsl/hw2/level1/_subject_id_06/highpass/mapflow/_highpass1/sub-06_task-flanker_run-2_bold_dtype_mcf_thresh_smooth_maths_intnorm_tempfilt.nii.gz'"
   ]
  },
  {
   "cell_type": "code",
   "execution_count": 80,
   "metadata": {},
   "outputs": [
    {
     "name": "stdout",
     "output_type": "stream",
     "text": [
      "(146, 238955)\n",
      "(146, 238955)\n"
     ]
    }
   ],
   "source": [
    "brain_fsl_gui = Brain_Data(file_fsl_gui).data\n",
    "print(brain_fsl_gui.shape)\n",
    "brain_fsl_nipype = Brain_Data(file_fsl_nipype).data\n",
    "print(brain_fsl_nipype.shape)"
   ]
  },
  {
   "cell_type": "code",
   "execution_count": 81,
   "metadata": {},
   "outputs": [
    {
     "name": "stdout",
     "output_type": "stream",
     "text": [
      "0 voxels are different\n"
     ]
    }
   ],
   "source": [
    "diff = brain_fsl_gui - brain_fsl_nipype\n",
    "num_of_non_zeros = np.count_nonzero(diff)\n",
    "print(f\"{num_of_non_zeros} voxels are different\")"
   ]
  },
  {
   "cell_type": "markdown",
   "metadata": {},
   "source": [
    "###  Step 14: Compare the result of meanfunc4"
   ]
  },
  {
   "cell_type": "markdown",
   "metadata": {},
   "source": [
    "Generate a mean functional image from the functional run (**This will be used in glm**)\n",
    "\n",
    "\n",
    "In our **nipype** notebook, this corresponds to the node `meanfunc4`\n",
    "\n",
    "\n",
    "In **fsl**, you can use the command from your fsl logfile, for example:\n",
    "\n",
    "```\n",
    "/usr/local/fsl/bin/fslmaths filtered_func_data -Tmean mean_func\n",
    "\n",
    "```\n",
    "\n",
    "Output file: `mean_func.nii.gz`"
   ]
  },
  {
   "cell_type": "code",
   "execution_count": 64,
   "metadata": {},
   "outputs": [],
   "source": [
    "# meanfunc4 result from fsl gui\n",
    "file_fsl_gui = '/srv/scratch/yc/fsl/nipype_fsl_comp/gui/sub11_run01/mean_func.nii.gz'\n",
    "\n",
    "# meanfunc4 result from nipype\n",
    "file_fsl_nipype = '/srv/scratch/yc/fsl/hw2/level1/_subject_id_11/meanfunc4/mapflow/_meanfunc40/sub-11_task-flanker_run-1_bold_dtype_mcf_thresh_smooth_maths_intnorm_tempfilt_mean.nii.gz'"
   ]
  },
  {
   "cell_type": "code",
   "execution_count": 66,
   "metadata": {},
   "outputs": [
    {
     "name": "stdout",
     "output_type": "stream",
     "text": [
      "(238955,)\n",
      "(238955,)\n"
     ]
    }
   ],
   "source": [
    "brain_fsl_gui = Brain_Data(file_fsl_gui).data\n",
    "print(brain_fsl_gui.shape)\n",
    "brain_fsl_nipype = Brain_Data(file_fsl_nipype).data\n",
    "print(brain_fsl_nipype.shape)"
   ]
  },
  {
   "cell_type": "code",
   "execution_count": 67,
   "metadata": {},
   "outputs": [
    {
     "name": "stdout",
     "output_type": "stream",
     "text": [
      "0 voxels are different\n"
     ]
    }
   ],
   "source": [
    "diff = brain_fsl_gui - brain_fsl_nipype\n",
    "num_of_non_zeros = np.count_nonzero(diff)\n",
    "print(f\"{num_of_non_zeros} voxels are different\")"
   ]
  },
  {
   "cell_type": "markdown",
   "metadata": {},
   "source": [
    "## First-level GLM"
   ]
  },
  {
   "cell_type": "markdown",
   "metadata": {},
   "source": [
    "###  Step 15: Compare the result of the First-level GLM"
   ]
  },
  {
   "cell_type": "code",
   "execution_count": 68,
   "metadata": {},
   "outputs": [],
   "source": [
    "# cope result from fsl gui\n",
    "file_fsl_gui = '/srv/scratch/yc/fsl/nipype_fsl_comp/gui/sub-11/run1.feat/stats/cope1.nii.gz'\n",
    "\n",
    "# cope result from nipype\n",
    "file_fsl_nipype = '/srv/scratch/yc/fsl/hw2/level1/_subject_id_11/level1estimate/mapflow/_level1estimate0/results/cope1.nii.gz'"
   ]
  },
  {
   "cell_type": "code",
   "execution_count": 69,
   "metadata": {},
   "outputs": [
    {
     "name": "stdout",
     "output_type": "stream",
     "text": [
      "(238955,)\n",
      "(238955,)\n"
     ]
    }
   ],
   "source": [
    "brain_fsl_gui = Brain_Data(file_fsl_gui).data\n",
    "print(brain_fsl_gui.shape)\n",
    "brain_fsl_nipype = Brain_Data(file_fsl_nipype).data\n",
    "print(brain_fsl_nipype.shape)"
   ]
  },
  {
   "cell_type": "code",
   "execution_count": 70,
   "metadata": {},
   "outputs": [
    {
     "name": "stdout",
     "output_type": "stream",
     "text": [
      "0 voxels are different\n"
     ]
    }
   ],
   "source": [
    "diff = brain_fsl_gui - brain_fsl_nipype\n",
    "num_of_non_zeros = np.count_nonzero(diff)\n",
    "print(f\"{num_of_non_zeros} voxels are different\")"
   ]
  },
  {
   "cell_type": "markdown",
   "metadata": {},
   "source": [
    "## Second-level GLM"
   ]
  },
  {
   "cell_type": "markdown",
   "metadata": {},
   "source": [
    "This part, we compare results of `sub-02` from FSL GUI and Nipype"
   ]
  },
  {
   "cell_type": "markdown",
   "metadata": {},
   "source": [
    "### Step 16: Compare the result of Registration"
   ]
  },
  {
   "cell_type": "markdown",
   "metadata": {},
   "source": [
    "Before the second-level GLM, we need to register outputs from the first level into a standardized space."
   ]
  },
  {
   "cell_type": "code",
   "execution_count": 75,
   "metadata": {},
   "outputs": [],
   "source": [
    "# standardized cope result from fsl gui\n",
    "file_fsl_script = '/srv/scratch/yc/fsl/nipype_fsl_comp/gui/sub-02/run1.feat/reg_standard/stats/cope1.nii.gz'\n",
    "\n",
    "# standardized cope result from nipype\n",
    "file_fsl_nipype = '/srv/scratch/yc/fsl/hw2/level1_results/02/reg_copes/_subject_id_02/_warpfunc0/cope1_flirt.nii.gz'"
   ]
  },
  {
   "cell_type": "code",
   "execution_count": 76,
   "metadata": {},
   "outputs": [
    {
     "name": "stdout",
     "output_type": "stream",
     "text": [
      "(238955,)\n",
      "(238955,)\n"
     ]
    }
   ],
   "source": [
    "brain_fsl_script = Brain_Data(file_fsl_script).data\n",
    "print(brain_fsl_script.shape)\n",
    "brain_fsl_nipype = Brain_Data(file_fsl_nipype).data\n",
    "print(brain_fsl_nipype.shape)"
   ]
  },
  {
   "cell_type": "code",
   "execution_count": 77,
   "metadata": {},
   "outputs": [
    {
     "name": "stdout",
     "output_type": "stream",
     "text": [
      "0 voxels are different\n"
     ]
    }
   ],
   "source": [
    "diff = brain_fsl_script - brain_fsl_nipype\n",
    "num_of_non_zeros = np.count_nonzero(diff)\n",
    "print(f\"{num_of_non_zeros} voxels are different\")"
   ]
  },
  {
   "cell_type": "code",
   "execution_count": 78,
   "metadata": {
    "tags": []
   },
   "outputs": [
    {
     "data": {
      "text/plain": [
       "Text(0.5, 0, 'Voxels')"
      ]
     },
     "execution_count": 78,
     "metadata": {},
     "output_type": "execute_result"
    },
    {
     "data": {
      "image/png": "[encoded data removed]",
      "text/plain": [
       "<Figure size 1440x720 with 2 Axes>"
      ]
     },
     "metadata": {
      "needs_background": "light"
     },
     "output_type": "display_data"
    }
   ],
   "source": [
    "f, a = plt.subplots(nrows=2, figsize=(20, 10), sharex=True)\n",
    "a[0].plot(brain_fsl_script, linestyle='-', color='forestgreen')\n",
    "a[0].set_ylabel('FSL', fontsize=16)\n",
    "a[1].plot(brain_fsl_nipype, linestyle='-', color='blueviolet')\n",
    "a[1].set_ylabel('Nipype', fontsize=16)\n",
    "\n",
    "plt.xlabel('Voxels', fontsize=16)"
   ]
  },
  {
   "cell_type": "markdown",
   "metadata": {},
   "source": [
    "#### 16.2 compare example_func2highres & highres2standard\n",
    "\n",
    "`example_func2highres.mat` & `highres2example_func.mat`\n",
    "\n",
    "4X4 matrices, eyeball they are the same.\n",
    "\n",
    "**Corresponding FSL command:**\n",
    "\n",
    "```\n",
    "/usr/local/fsl/bin/flirt -in example_func -ref highres -out example_func2highres -omat example_func2highres.mat -cost corratio -dof 12 -searchrx -180 180 -searchry -180 180 -searchrz -180 180 -interp trilinear \n",
    "\n",
    "/usr/local/fsl/bin/convert_xfm -inverse -omat highres2example_func.mat example_func2highres.mat\n",
    "```\n",
    "\n",
    "`standard2highres.mat` & `highres2standard.mat`\n",
    "\n",
    "4X4 matrices, eyeball they are the same.\n",
    "\n",
    "**Corresponding FSL command:**\n",
    "\n",
    "```\n",
    "/usr/local/fsl/bin/flirt -in highres -ref standard -out highres2standard -omat highres2standard.mat -cost corratio -dof 12 -searchrx -180 180 -searchry -180 180 -searchrz -180 180 -interp trilinear \n",
    "\n",
    "/usr/local/fsl/bin/convert_xfm -inverse -omat standard2highres.mat highres2standard.mat\n",
    "```"
   ]
  },
  {
   "cell_type": "markdown",
   "metadata": {},
   "source": [
    "### Step 17: Compare the result of the Second-level GLM"
   ]
  },
  {
   "cell_type": "code",
   "execution_count": 42,
   "metadata": {},
   "outputs": [],
   "source": [
    "# res4d result from fsl gui\n",
    "file_fsl_gui = '/srv/scratch/yc/fsl/nipype_fsl_comp/gui/Flanker_2ndLevel.gfeat/cope1.feat/stats/cope1.nii.gz'\n",
    "\n",
    "# meanfunc4 result from nipype\n",
    "file_fsl_nipype = '/srv/scratch/yc/fsl/hw2/level2_results/contrast_1/stats_dir/_contr_id_1/stats/cope1.nii.gz'"
   ]
  },
  {
   "cell_type": "code",
   "execution_count": 43,
   "metadata": {},
   "outputs": [
    {
     "name": "stdout",
     "output_type": "stream",
     "text": [
      "(238955,)\n",
      "(238955,)\n"
     ]
    }
   ],
   "source": [
    "brain_fsl_gui = Brain_Data(file_fsl_gui).data\n",
    "print(brain_fsl_gui.shape)\n",
    "brain_fsl_nipype = Brain_Data(file_fsl_nipype).data\n",
    "print(brain_fsl_nipype.shape)"
   ]
  },
  {
   "cell_type": "code",
   "execution_count": 44,
   "metadata": {},
   "outputs": [
    {
     "name": "stdout",
     "output_type": "stream",
     "text": [
      "0 voxels are different\n"
     ]
    }
   ],
   "source": [
    "diff = brain_fsl_gui - brain_fsl_nipype\n",
    "num_of_non_zeros = np.count_nonzero(diff)\n",
    "print(f\"{num_of_non_zeros} voxels are different\")"
   ]
  },
  {
   "cell_type": "code",
   "execution_count": 45,
   "metadata": {},
   "outputs": [
    {
     "data": {
      "text/plain": [
       "Text(0.5, 0, 'Voxels')"
      ]
     },
     "execution_count": 45,
     "metadata": {},
     "output_type": "execute_result"
    },
    {
     "data": {
      "image/png": "[encoded data removed]",
      "text/plain": [
       "<Figure size 1440x720 with 2 Axes>"
      ]
     },
     "metadata": {
      "needs_background": "light"
     },
     "output_type": "display_data"
    }
   ],
   "source": [
    "f, a = plt.subplots(nrows=2, figsize=(20, 10), sharex=True)\n",
    "a[0].plot(brain_fsl_gui.data, linestyle='-', color='forestgreen')\n",
    "a[0].set_ylabel('FSL', fontsize=16)\n",
    "# a[0].yaxis.set_ticks([])\n",
    "\n",
    "a[1].plot(brain_fsl_nipype, linestyle='-', color='blueviolet')\n",
    "a[1].set_ylabel('Nipype', fontsize=16)\n",
    "\n",
    "plt.xlabel('Voxels', fontsize=16)"
   ]
  },
  {
   "cell_type": "markdown",
   "metadata": {},
   "source": [
    "##  Third-level GLM"
   ]
  },
  {
   "cell_type": "markdown",
   "metadata": {},
   "source": [
    "Here we use the output from the third contrast as an example."
   ]
  },
  {
   "cell_type": "code",
   "execution_count": 46,
   "metadata": {},
   "outputs": [
    {
     "name": "stdout",
     "output_type": "stream",
     "text": [
      "(238955,)\n",
      "(238955,)\n"
     ]
    }
   ],
   "source": [
    "file_fsl_gui = '/srv/scratch/yc/fsl/nipype_fsl_comp/gui/Flanker_3rdLevel-cope3.gfeat/cope1.feat/stats/cope1.nii.gz'\n",
    "brain_fsl_gui = Brain_Data(file_fsl_gui).data\n",
    "print(brain_fsl_gui.shape)\n",
    "file_fsl_nipype = '/srv/scratch/yc/fsl/hw2/level3_results/contrast_3/stats_dir/_contr_id_3/stats/cope1.nii.gz'\n",
    "brain_fsl_nipype = Brain_Data(file_fsl_nipype).data\n",
    "print(brain_fsl_nipype.shape)"
   ]
  },
  {
   "cell_type": "code",
   "execution_count": 47,
   "metadata": {},
   "outputs": [
    {
     "name": "stdout",
     "output_type": "stream",
     "text": [
      "0 voxels are different\n"
     ]
    }
   ],
   "source": [
    "diff = brain_fsl_gui - brain_fsl_nipype\n",
    "num_of_non_zeros = np.count_nonzero(diff)\n",
    "print(f\"{num_of_non_zeros} voxels are different\")"
   ]
  },
  {
   "cell_type": "code",
   "execution_count": 48,
   "metadata": {},
   "outputs": [
    {
     "data": {
      "text/plain": [
       "Text(0.5, 0, 'Voxels')"
      ]
     },
     "execution_count": 48,
     "metadata": {},
     "output_type": "execute_result"
    },
    {
     "data": {
      "image/png": "[encoded data removed]",
      "text/plain": [
       "<Figure size 1440x720 with 2 Axes>"
      ]
     },
     "metadata": {
      "needs_background": "light"
     },
     "output_type": "display_data"
    }
   ],
   "source": [
    "f, a = plt.subplots(nrows=2, figsize=(20, 10), sharex=True)\n",
    "a[0].plot(brain_fsl_gui, linestyle='-', color='forestgreen')\n",
    "a[0].set_ylabel('FSL', fontsize=16)\n",
    "a[1].plot(brain_fsl_nipype, linestyle='-', color='blueviolet')\n",
    "a[1].set_ylabel('Nipype', fontsize=16)\n",
    "# a[0].yaxis.set_ticks([])\n",
    "\n",
    "plt.xlabel('Voxels', fontsize=16)"
   ]
  }
 ],
 "metadata": {
  "kernelspec": {
   "display_name": "Python 3",
   "language": "python",
   "name": "python3"
  },
  "language_info": {
   "codemirror_mode": {
    "name": "ipython",
    "version": 3
   },
   "file_extension": ".py",
   "mimetype": "text/x-python",
   "name": "python",
   "nbconvert_exporter": "python",
   "pygments_lexer": "ipython3",
   "version": "3.7.11"
  }
 },
 "nbformat": 4,
 "nbformat_minor": 4
}
