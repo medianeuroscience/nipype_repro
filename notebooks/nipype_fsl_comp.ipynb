{
 "cells": [
  {
   "cell_type": "markdown",
   "metadata": {
    "tags": []
   },
   "source": [
    "# Comparing Three-level GLM Results from FSL GUI and Nipype (Docker)"
   ]
  },
  {
   "cell_type": "markdown",
   "metadata": {},
   "source": [
    "<mark>**Execute this notebook outside of the docker container**</mark>\n",
    "\n",
    "In this notebook we explore the outputs of a basic fMRI `Three Level GLM` pipeline in FSL and Nipype. Specifically, we do a quality control check to ensure that results produced by FSL via the Graphical User Interface (GUI) and an FSL worklow in `nipype` produce the same results. Since FSL overwrites outputs and only produces the final results, we used the corresponding `bash` commands to generate stepwise outputs.\n",
    "\n",
    "Importantly, we carry out all analyses in `20.04.2 LTS (Focal Fossa)` as we (and [others](https://www.frontiersin.org/articles/10.3389/fninf.2015.00012/full)) have found that FSL uses mathematical functions based on single-precision floating-point arithmetic whose implementations differ across operating systems. Hence, you cannot expect that your FSL results obtained in a MAC, Windows, or other Linux (e.g., neurodebian) OS will match the results/values that we report here. "
   ]
  },
  {
   "cell_type": "markdown",
   "metadata": {},
   "source": [
    "In the following, we use an fMRI dataset that used the Flanker task, which can be downloaded [here](https://openneuro.org/datasets/ds000102/versions/00001). We choose `run-1` of `subject-11` and run the preprocess (1) in FSL GUI (6.0.4), with (2) nipype and (3) FSL (6.0.4) command in the docker. Then we compare results from these three methods step by step.\n",
    "\n",
    "<mark>**Note:**</mark> When run FSL GUI, some output files will be overwritten. Therefore, we use FSL command (outside of the docker, the same system environment as FSL GUI) as an alternative so that we can get the output file and do the comparison at each step. To make sure that FSL command is a good alternative of FSL GUI, we compared the final output of them and found no differences."
   ]
  },
  {
   "cell_type": "code",
   "execution_count": 1,
   "metadata": {},
   "outputs": [
    {
     "name": "stderr",
     "output_type": "stream",
     "text": [
      "/usr/local/miniconda3/envs/naturalistic/lib/python3.7/site-packages/nilearn/datasets/__init__.py:90: FutureWarning: Fetchers from the nilearn.datasets module will be updated in version 0.9 to return python strings instead of bytes and Pandas dataframes instead of Numpy arrays.\n",
      "  \"Numpy arrays.\", FutureWarning)\n"
     ]
    }
   ],
   "source": [
    "%matplotlib inline\n",
    "import numpy as np\n",
    "from nltools.data import Brain_Data\n",
    "from nilearn.image import get_data, load_img, mean_img\n",
    "from nilearn.plotting import plot_epi\n",
    "import matplotlib.pyplot as plt"
   ]
  },
  {
   "cell_type": "markdown",
   "metadata": {},
   "source": [
    "## Preprocessing"
   ]
  },
  {
   "cell_type": "markdown",
   "metadata": {},
   "source": [
    "This preprocessing is conducted within the first-level GLM process. All the comparisons for this part are on `sub-11`."
   ]
  },
  {
   "cell_type": "markdown",
   "metadata": {},
   "source": [
    "###  Step 1: Compare the result of img2float"
   ]
  },
  {
   "cell_type": "markdown",
   "metadata": {},
   "source": [
    "img2float is the first step in fsl\n",
    "\n",
    "In our **nipype** notebook, this corresponds to the node `img2float`\n",
    "\n",
    "In **fsl**, you can use terminal open a folder and use the command from your fsl logfile, for example:\n",
    "\n",
    "```\n",
    "/usr/local/fsl/bin/fslmaths /home/.../flanker/sub-11/func/sub-11_task-flanker_run-1_bold prefiltered_func_data -odt float\n",
    "```\n",
    "\n",
    "then it will generate a file called `prefiltered_func_data.nii.gz`"
   ]
  },
  {
   "cell_type": "code",
   "execution_count": 2,
   "metadata": {},
   "outputs": [],
   "source": [
    "# img2float result from fsl gui\n",
    "file_fsl_gui = '../file4comparison/step_1_gui_prefiltered_func_data.nii.gz'\n",
    "\n",
    "# img2float result from nipype\n",
    "file_fsl_nipype = '../file4comparison/step_1_nipype_bold_dtype.nii.gz'"
   ]
  },
  {
   "cell_type": "code",
   "execution_count": 3,
   "metadata": {},
   "outputs": [
    {
     "name": "stdout",
     "output_type": "stream",
     "text": [
      "(146, 238955)\n",
      "(146, 238955)\n"
     ]
    }
   ],
   "source": [
    "brain_fsl_gui = Brain_Data(file_fsl_gui).data\n",
    "print(brain_fsl_gui.shape)\n",
    "brain_fsl_nipype = Brain_Data(file_fsl_nipype).data\n",
    "print(brain_fsl_nipype.shape)"
   ]
  },
  {
   "cell_type": "code",
   "execution_count": 4,
   "metadata": {},
   "outputs": [
    {
     "name": "stdout",
     "output_type": "stream",
     "text": [
      "0 out of 34887430 voxels are different\n"
     ]
    }
   ],
   "source": [
    "diff = brain_fsl_gui - brain_fsl_nipype\n",
    "num_of_non_zeros = np.count_nonzero(diff)\n",
    "print(f\"{num_of_non_zeros} out of {diff.size} voxels are different\")"
   ]
  },
  {
   "cell_type": "markdown",
   "metadata": {},
   "source": [
    "###  Step 2: Compare the result of extractref"
   ]
  },
  {
   "cell_type": "markdown",
   "metadata": {},
   "source": [
    "extract the middle volume as the reference is the second step in fsl\n",
    "\n",
    "\n",
    "In our **nipype** notebook, this corresponds to the node `extractref`\n",
    "\n",
    "In **fsl**, you can use the command from your fsl logfile, for example:\n",
    "\n",
    "```\n",
    "/usr/local/fsl/bin/fslroi prefiltered_func_data example_func 73 1\n",
    "```\n",
    "\n",
    "then it will generate a file called `example_func.nii.gz`"
   ]
  },
  {
   "cell_type": "code",
   "execution_count": 5,
   "metadata": {},
   "outputs": [],
   "source": [
    "# extractref result from fsl gui\n",
    "file_fsl_gui = '../file4comparison/step_2_gui_example_func.nii.gz'\n",
    "\n",
    "# extractref result from nipype\n",
    "file_fsl_nipype = '../file4comparison/step_2_nipype_bold_dtype_roi.nii.gz'"
   ]
  },
  {
   "cell_type": "code",
   "execution_count": 6,
   "metadata": {},
   "outputs": [
    {
     "name": "stdout",
     "output_type": "stream",
     "text": [
      "(238955,)\n",
      "(238955,)\n"
     ]
    }
   ],
   "source": [
    "brain_fsl_gui = Brain_Data(file_fsl_gui).data\n",
    "print(brain_fsl_gui.shape)\n",
    "brain_fsl_nipype = Brain_Data(file_fsl_nipype).data\n",
    "print(brain_fsl_nipype.shape)"
   ]
  },
  {
   "cell_type": "code",
   "execution_count": 7,
   "metadata": {},
   "outputs": [
    {
     "name": "stdout",
     "output_type": "stream",
     "text": [
      "0 out of 238955 voxels are different\n"
     ]
    }
   ],
   "source": [
    "diff = brain_fsl_gui - brain_fsl_nipype\n",
    "num_of_non_zeros = np.count_nonzero(diff)\n",
    "print(f\"{num_of_non_zeros} out of {diff.size} voxels are different\")"
   ]
  },
  {
   "cell_type": "markdown",
   "metadata": {},
   "source": [
    "###  Step 3: Compare the result motion correction"
   ]
  },
  {
   "cell_type": "markdown",
   "metadata": {},
   "source": [
    "Realign the functional runs to the middle volume of each run\n",
    "\n",
    "In our **nipype** notebook, this corresponds to the node `realign`\n",
    "\n",
    "In **fsl**, you can use the command from your fsl logfile, for example:\n",
    "\n",
    "```\n",
    "/usr/local/fsl/bin/mcflirt -in prefiltered_func_data -out prefiltered_func_data_mcf -mats -plots -reffile example_func -rmsrel -rmsabs -spline_final\n",
    "```\n",
    "\n",
    "In **fsl GUI**, it corresponds to\n",
    "\n",
    "![image](https://user-images.githubusercontent.com/20402800/125661408-9d6ed3a2-2537-44dd-879f-85181424b171.png)\n",
    "\n",
    "then it will generate a file called `prefiltered_func_data_mcf.nii.gz`"
   ]
  },
  {
   "cell_type": "code",
   "execution_count": 8,
   "metadata": {},
   "outputs": [],
   "source": [
    "# realign result from fsl gui\n",
    "file_fsl_gui = '../file4comparison/step_3_gui_prefiltered_func_data_mcf.nii.gz'\n",
    "\n",
    "# realign result from nipype\n",
    "file_fsl_nipype = '../file4comparison/step_3_nipype_bold_dtype_mcf.nii.gz'"
   ]
  },
  {
   "cell_type": "code",
   "execution_count": 9,
   "metadata": {},
   "outputs": [
    {
     "name": "stdout",
     "output_type": "stream",
     "text": [
      "(146, 238955)\n",
      "(146, 238955)\n"
     ]
    }
   ],
   "source": [
    "brain_fsl_gui = Brain_Data(file_fsl_gui).data\n",
    "print(brain_fsl_gui.shape)\n",
    "brain_fsl_nipype = Brain_Data(file_fsl_nipype).data\n",
    "print(brain_fsl_nipype.shape)"
   ]
  },
  {
   "cell_type": "code",
   "execution_count": 10,
   "metadata": {},
   "outputs": [
    {
     "name": "stdout",
     "output_type": "stream",
     "text": [
      "0 out of 34887430 voxels are different\n"
     ]
    }
   ],
   "source": [
    "diff = brain_fsl_gui - brain_fsl_nipype\n",
    "num_of_non_zeros = np.count_nonzero(diff)\n",
    "print(f\"{num_of_non_zeros} out of {diff.size} voxels are different\")"
   ]
  },
  {
   "cell_type": "markdown",
   "metadata": {},
   "source": [
    "###  Step 4: Compare the result of meanfunc"
   ]
  },
  {
   "cell_type": "markdown",
   "metadata": {},
   "source": [
    "Extract the mean volume of the functional run\n",
    "\n",
    "In our **nipype** notebook, this corresponds to the node `meanfunc`,\n",
    "\n",
    "<mark> Later, FSL applied other transformations on this meanfunc file without renaming, so if executing this step afterwards, results might be different. \n",
    "    Thus, we did not provide files for this step.</mark>\n",
    "\n",
    "\n",
    "In **fsl**, you can use the command from your fsl logfile, for example:\n",
    "\n",
    "```\n",
    "/usr/local/fsl/bin/fslmaths prefiltered_func_data_mcf -Tmean mean_func\n",
    "```\n",
    "\n",
    "then it will generate a file called `mask.nii.gz`"
   ]
  },
  {
   "cell_type": "code",
   "execution_count": 11,
   "metadata": {},
   "outputs": [],
   "source": [
    "# meanfunc result from fsl gui\n",
    "file_fsl_gui = '../file4comparison/step_4_gui_mean_func.nii.gz'\n",
    "\n",
    "# meanfunc result from nipype\n",
    "file_fsl_nipype = '../file4comparison/step_4_nipype_bold_dtype_mcf_mean.nii.gz'"
   ]
  },
  {
   "cell_type": "code",
   "execution_count": 12,
   "metadata": {},
   "outputs": [
    {
     "name": "stdout",
     "output_type": "stream",
     "text": [
      "(238955,)\n",
      "(238955,)\n"
     ]
    }
   ],
   "source": [
    "brain_fsl_gui = Brain_Data(file_fsl_gui).data\n",
    "print(brain_fsl_gui.shape)\n",
    "brain_fsl_nipype = Brain_Data(file_fsl_nipype).data\n",
    "print(brain_fsl_nipype.shape)"
   ]
  },
  {
   "cell_type": "code",
   "execution_count": 13,
   "metadata": {},
   "outputs": [
    {
     "name": "stdout",
     "output_type": "stream",
     "text": [
      "0 out of 238955 voxels are different\n"
     ]
    }
   ],
   "source": [
    "diff = brain_fsl_gui - brain_fsl_nipype\n",
    "num_of_non_zeros = np.count_nonzero(diff)\n",
    "print(f\"{num_of_non_zeros} out of {diff.size} voxels are different\")"
   ]
  },
  {
   "cell_type": "markdown",
   "metadata": {},
   "source": [
    "###  Step 5: Compare the result of meanfuncmask"
   ]
  },
  {
   "cell_type": "markdown",
   "metadata": {},
   "source": [
    "Strip the skull from the mean functional to generate a mask\n",
    "\n",
    "In our **nipype** notebook, this corresponds to the node `meanfuncmask`,\n",
    "\n",
    "\n",
    "In **fsl**, you can use the command from your fsl logfile, for example:\n",
    "\n",
    "```\n",
    "/usr/local/fsl/bin/bet2 mean_func mask -f 0.3 -n -m; /usr/local/fsl/bin/immv mask_mask mask\n",
    "```\n",
    "\n",
    "then it will generate a file called `mask.nii.gz`\n",
    "\n",
    "<mark>\n",
    "    Later, FSL applied other transformations on this mask file without renaming, so if executing this step afterwards, results might be different. \n",
    "    Thus, we did not provide files for this step.\n",
    "</mark>"
   ]
  },
  {
   "cell_type": "code",
   "execution_count": 14,
   "metadata": {},
   "outputs": [],
   "source": [
    "# meanfuncmask result from fsl gui\n",
    "file_fsl_gui = '../file4comparison/step_5_gui_mask.nii.gz'\n",
    "\n",
    "# meanfuncmask result from nipype\n",
    "file_fsl_nipype = '../file4comparison/step_5_nipype_bold_dtype_mcf_mean_brain_mask.nii.gz'"
   ]
  },
  {
   "cell_type": "code",
   "execution_count": 15,
   "metadata": {},
   "outputs": [
    {
     "name": "stderr",
     "output_type": "stream",
     "text": [
      "/usr/local/miniconda3/envs/naturalistic/lib/python3.7/site-packages/nilearn/image/resampling.py:527: UserWarning: Casting data from int16 to float32\n",
      "  warnings.warn(\"Casting data from %s to %s\" % (data.dtype.name, aux))\n",
      "/usr/local/miniconda3/envs/naturalistic/lib/python3.7/site-packages/nilearn/image/resampling.py:273: UserWarning: Resampling binary images with continuous or linear interpolation. This might lead to unexpected results. You might consider using nearest interpolation instead.\n",
      "  warnings.warn(\"Resampling binary images with continuous or \"\n"
     ]
    },
    {
     "name": "stdout",
     "output_type": "stream",
     "text": [
      "(238955,)\n"
     ]
    },
    {
     "name": "stderr",
     "output_type": "stream",
     "text": [
      "/usr/local/miniconda3/envs/naturalistic/lib/python3.7/site-packages/nilearn/image/resampling.py:527: UserWarning: Casting data from int16 to float32\n",
      "  warnings.warn(\"Casting data from %s to %s\" % (data.dtype.name, aux))\n",
      "/usr/local/miniconda3/envs/naturalistic/lib/python3.7/site-packages/nilearn/image/resampling.py:273: UserWarning: Resampling binary images with continuous or linear interpolation. This might lead to unexpected results. You might consider using nearest interpolation instead.\n",
      "  warnings.warn(\"Resampling binary images with continuous or \"\n"
     ]
    },
    {
     "name": "stdout",
     "output_type": "stream",
     "text": [
      "(238955,)\n"
     ]
    }
   ],
   "source": [
    "brain_fsl_gui = Brain_Data(file_fsl_gui).data\n",
    "print(brain_fsl_gui.shape)\n",
    "brain_fsl_nipype = Brain_Data(file_fsl_nipype).data\n",
    "print(brain_fsl_nipype.shape)"
   ]
  },
  {
   "cell_type": "code",
   "execution_count": 16,
   "metadata": {},
   "outputs": [
    {
     "name": "stdout",
     "output_type": "stream",
     "text": [
      "0 out of 238955 voxels are different\n"
     ]
    }
   ],
   "source": [
    "diff = brain_fsl_gui - brain_fsl_nipype\n",
    "num_of_non_zeros = np.count_nonzero(diff)\n",
    "print(f\"{num_of_non_zeros} out of {diff.size} voxels are different\")"
   ]
  },
  {
   "cell_type": "markdown",
   "metadata": {},
   "source": [
    "###  Step 6: Compare the result of maskfunc"
   ]
  },
  {
   "cell_type": "markdown",
   "metadata": {},
   "source": [
    "Mask the functional runs with the extracted mask\n",
    "\n",
    "In our **nipype** notebook, this corresponds to the node `maskfunc`,\n",
    "\n",
    "\n",
    "In **fsl**, you can use the command from your fsl logfile, for example:\n",
    "\n",
    "```\n",
    "/usr/local/fsl/bin/fslmaths prefiltered_func_data_mcf -mas mask prefiltered_func_data_bet\n",
    "```\n",
    "\n",
    "In **fsl GUI**, it corresponds to \n",
    "\n",
    "![image](https://user-images.githubusercontent.com/20402800/125662332-488fddef-1950-48b5-af4d-6f3befffd24e.png)\n",
    "\n",
    "then it will generate a file called `prefiltered_func_data_bet.nii.gz`"
   ]
  },
  {
   "cell_type": "code",
   "execution_count": 17,
   "metadata": {},
   "outputs": [],
   "source": [
    "# maskfunc result from fsl gui\n",
    "file_fsl_gui = '../file4comparison/step_6_gui_prefiltered_func_data_bet.nii.gz'\n",
    "\n",
    "# maskfunc result from nipype\n",
    "file_fsl_nipype = '../file4comparison/step_6_nipype_bold_dtype_mcf_bet.nii.gz'"
   ]
  },
  {
   "cell_type": "code",
   "execution_count": 18,
   "metadata": {},
   "outputs": [
    {
     "name": "stdout",
     "output_type": "stream",
     "text": [
      "(146, 238955)\n",
      "(146, 238955)\n"
     ]
    }
   ],
   "source": [
    "brain_fsl_gui = Brain_Data(file_fsl_gui).data\n",
    "print(brain_fsl_gui.shape)\n",
    "brain_fsl_nipype = Brain_Data(file_fsl_nipype).data\n",
    "print(brain_fsl_nipype.shape)"
   ]
  },
  {
   "cell_type": "code",
   "execution_count": 19,
   "metadata": {},
   "outputs": [
    {
     "name": "stdout",
     "output_type": "stream",
     "text": [
      "0 out of 34887430 voxels are different\n"
     ]
    }
   ],
   "source": [
    "diff = brain_fsl_gui - brain_fsl_nipype\n",
    "num_of_non_zeros = np.count_nonzero(diff)\n",
    "print(f\"{num_of_non_zeros} out of {diff.size} voxels are different\")"
   ]
  },
  {
   "cell_type": "markdown",
   "metadata": {},
   "source": [
    "###  Step 7: Compare the result of thresholding"
   ]
  },
  {
   "cell_type": "markdown",
   "metadata": {},
   "source": [
    "7.1: Determine the 2nd and 98th percentile intensities of each functional run. It will return two numbers, which will be used in the following step.\n",
    "\n",
    "7.2: Threshold the first run of the functional data at 10% of the 98th percentile\n",
    "\n",
    "In our **nipype** notebook, this corresponds to the node `getthreshold` & `threshold`,\n",
    "\n",
    "\n",
    "In **fsl**, you can use the command from your fsl logfile, for example:\n",
    "\n",
    "```\n",
    "/usr/local/fsl/bin/fslstats prefiltered_func_data_bet -p 2 -p 98\n",
    "0.000000 873.492249 (these numbers are for subject-11 run-01)\n",
    "/usr/local/fsl/bin/fslmaths prefiltered_func_data_bet -thr 87.3492249 -Tmin -bin mask -odt char\n",
    "```\n",
    "\n",
    "All steps perform on `mask.nii.gz`\n",
    "\n",
    "<mark>\n",
    "    Later, FSL applied other transformations on this mask file without renaming, so if executing this step afterwards, results might be different. \n",
    "    Thus, we did not provide files for this step.\n",
    "</mark>"
   ]
  },
  {
   "cell_type": "markdown",
   "metadata": {},
   "source": [
    "###  Step 8: Compare the result of dilate the mask"
   ]
  },
  {
   "cell_type": "markdown",
   "metadata": {},
   "source": [
    "Use the threshold from **Step 7** to dilate the mask\n",
    "\n",
    "In our **nipype** notebook, this corresponds to the node `dilatemask`,\n",
    "\n",
    "\n",
    "In **fsl**, you can use the command from your fsl logfile, for example:\n",
    "\n",
    "```\n",
    "/usr/local/fsl/bin/fslmaths mask -dilF mask\n",
    "```\n",
    "\n",
    "All steps perform on `mask.nii.gz`"
   ]
  },
  {
   "cell_type": "code",
   "execution_count": 20,
   "metadata": {},
   "outputs": [],
   "source": [
    "# dilatemask result from fsl gui\n",
    "file_fsl_gui = '../file4comparison/step_8_gui_mask.nii.gz'\n",
    "\n",
    "# dilatemask result from nipype\n",
    "file_fsl_nipype = '../file4comparison/step_8_nipype_bold_dtype_mcf_bet_thresh_dil.nii.gz'"
   ]
  },
  {
   "cell_type": "code",
   "execution_count": 21,
   "metadata": {},
   "outputs": [
    {
     "name": "stderr",
     "output_type": "stream",
     "text": [
      "/usr/local/miniconda3/envs/naturalistic/lib/python3.7/site-packages/nilearn/image/resampling.py:273: UserWarning: Resampling binary images with continuous or linear interpolation. This might lead to unexpected results. You might consider using nearest interpolation instead.\n",
      "  warnings.warn(\"Resampling binary images with continuous or \"\n"
     ]
    },
    {
     "name": "stdout",
     "output_type": "stream",
     "text": [
      "(238955,)\n"
     ]
    },
    {
     "name": "stderr",
     "output_type": "stream",
     "text": [
      "/usr/local/miniconda3/envs/naturalistic/lib/python3.7/site-packages/nilearn/image/resampling.py:273: UserWarning: Resampling binary images with continuous or linear interpolation. This might lead to unexpected results. You might consider using nearest interpolation instead.\n",
      "  warnings.warn(\"Resampling binary images with continuous or \"\n"
     ]
    },
    {
     "name": "stdout",
     "output_type": "stream",
     "text": [
      "(238955,)\n"
     ]
    }
   ],
   "source": [
    "brain_fsl_gui = Brain_Data(file_fsl_gui).data\n",
    "print(brain_fsl_gui.shape)\n",
    "brain_fsl_nipype = Brain_Data(file_fsl_nipype).data\n",
    "print(brain_fsl_nipype.shape)"
   ]
  },
  {
   "cell_type": "code",
   "execution_count": 22,
   "metadata": {},
   "outputs": [
    {
     "name": "stdout",
     "output_type": "stream",
     "text": [
      "0 out of 238955 voxels are different\n"
     ]
    }
   ],
   "source": [
    "diff = brain_fsl_gui - brain_fsl_nipype\n",
    "num_of_non_zeros = np.count_nonzero(diff)\n",
    "print(f\"{num_of_non_zeros} out of {diff.size} voxels are different\")"
   ]
  },
  {
   "cell_type": "markdown",
   "metadata": {},
   "source": [
    "###  Step 9: Compare the result of maskfunc2"
   ]
  },
  {
   "cell_type": "markdown",
   "metadata": {},
   "source": [
    "Mask the motion corrected functional runs with the dilated mask\n",
    "\n",
    "In our **nipype** notebook, this corresponds to the node `maskfunc2`,\n",
    "\n",
    "\n",
    "In **fsl**, you can use the command from your fsl logfile, for example:\n",
    "\n",
    "```\n",
    "/opt/fsl-6.0.4/bin/fslmaths prefiltered_func_data_mcf -mas mask prefiltered_func_data_thresh\n",
    "```\n",
    "\n",
    "Output file: `prefiltered_func_data_thresh.nii.gz`"
   ]
  },
  {
   "cell_type": "code",
   "execution_count": 23,
   "metadata": {},
   "outputs": [],
   "source": [
    "# maskfunc2 result from fsl gui\n",
    "file_fsl_gui = '../file4comparison/step_9_gui_prefiltered_func_data_thresh.nii.gz'\n",
    "\n",
    "# maskfunc2 result from nipype\n",
    "file_fsl_nipype = '../file4comparison/step_9_nipype_bold_dtype_mcf_thresh.nii.gz'"
   ]
  },
  {
   "cell_type": "code",
   "execution_count": 24,
   "metadata": {},
   "outputs": [
    {
     "name": "stdout",
     "output_type": "stream",
     "text": [
      "(146, 238955)\n",
      "(146, 238955)\n"
     ]
    }
   ],
   "source": [
    "brain_fsl_gui = Brain_Data(file_fsl_gui).data\n",
    "print(brain_fsl_gui.shape)\n",
    "brain_fsl_nipype = Brain_Data(file_fsl_nipype).data\n",
    "print(brain_fsl_nipype.shape)"
   ]
  },
  {
   "cell_type": "code",
   "execution_count": 25,
   "metadata": {},
   "outputs": [
    {
     "name": "stdout",
     "output_type": "stream",
     "text": [
      "0 out of 34887430 voxels are different\n"
     ]
    }
   ],
   "source": [
    "diff = brain_fsl_gui - brain_fsl_nipype\n",
    "num_of_non_zeros = np.count_nonzero(diff)\n",
    "print(f\"{num_of_non_zeros} out of {diff.size} voxels are different\")"
   ]
  },
  {
   "cell_type": "markdown",
   "metadata": {},
   "source": [
    "###  Step 10: Compare the result of SUSAN Noise Reduction"
   ]
  },
  {
   "cell_type": "markdown",
   "metadata": {},
   "source": [
    "10.1: Determine the mean image from each TR\n",
    "\n",
    "10.2: Determine the median value of the TRs using the mask\n",
    "\n",
    "10.3: Merge the median values with the mean functional images into a coupled list. The output of this merge node will go into susan as usans\n",
    "\n",
    "10.4: Smooth each run using SUSAN with the brightness threshold set to 75% of the median value for each run and a mask constituting the mean functional\n",
    "\n",
    "\n",
    "Mask the motion corrected functional runs with the dilated mask\n",
    "\n",
    "In our **nipype** notebook, this corresponds to the node `meanfunc2`, `medianval`, `mergenode`, & `smooth`\n",
    "\n",
    "\n",
    "In **fsl**, you can use the command from your fsl logfile, for example:\n",
    "\n",
    "```\n",
    "/usr/local/fsl/bin/fslmaths prefiltered_func_data_thresh -Tmean mean_func\n",
    "\n",
    "/usr/local/fsl/bin/fslstats prefiltered_func_data_mcf -k mask -p 50\n",
    "728.800232 (this number is for subject-11 run-01)\n",
    "\n",
    "/usr/local/fsl/bin/susan prefiltered_func_data_thresh 546.600174 2.12314225053 3 1 1 mean_func 546.600174 prefiltered_func_data_smooth\n",
    "\n",
    "```\n",
    "In **fsl GUI**, it corresponds to \n",
    "\n",
    "![image](https://user-images.githubusercontent.com/20402800/125663421-302ddfb6-9438-4e8d-aa7a-48200416722f.png)\n",
    "\n",
    "\n",
    "Output file: `prefiltered_func_data_smooth.nii.gz`"
   ]
  },
  {
   "cell_type": "markdown",
   "metadata": {},
   "source": [
    "<mark>\n",
    "    Later, FSL applied other transformations on this smoothed file without renaming, so if executing this step afterwards, results might be different. \n",
    "    Thus, we did not provide files for this step.\n",
    "</mark>"
   ]
  },
  {
   "cell_type": "markdown",
   "metadata": {},
   "source": [
    "###  Step 11: Compare the result of maskfunc3"
   ]
  },
  {
   "cell_type": "markdown",
   "metadata": {},
   "source": [
    "Mask the smoothed data with the dilated mask\n",
    "\n",
    "In our **nipype** notebook, this corresponds to the node `maskfunc3`\n",
    "\n",
    "\n",
    "In **fsl**, you can use the command from your fsl logfile, for example:\n",
    "\n",
    "```\n",
    "/usr/local/fsl/bin/fslmaths prefiltered_func_data_smooth -mas mask prefiltered_func_data_smooth\n",
    "\n",
    "```\n",
    "\n",
    "This step performs on `prefiltered_func_data_smooth.nii.gz`"
   ]
  },
  {
   "cell_type": "markdown",
   "metadata": {},
   "source": [
    "####  Version A: FWHM = 4.9996179300001655 in Nipype\n",
    "\n",
    "In the FSL GUI where SUSAN noise reduction is specified, a brightness threshold (bt) is needed and estimated from a FWHM smoothing kernel. Surprisingly, even a slight difference in bt can lead to very different results in the final stage of the GLM analysis. We used FWHM as 5 mm in FSL and obtained a bt of 2.12314225053. Yet, Nipype uses a different algorithm (bt = float(fwhm) / np.sqrt(8 * np.log(2))) to calculate bt from FSL. Therefore, to acquire the same bt, FWHM should be set as **4.9996179300001655** in Nipype rather than 5.\n",
    "\n",
    "Output file: \n",
    "- `prefiltered_func_data_smooth.nii.gz` in FSL\n",
    "- `...smooth_maths.nii.gz` in Nipype\n"
   ]
  },
  {
   "cell_type": "code",
   "execution_count": 26,
   "metadata": {},
   "outputs": [],
   "source": [
    "# thresholding result from fsl gui\n",
    "file_fsl_gui = '../file4comparison/step_11_gui_prefiltered_func_data_smooth.nii.gz'\n",
    "\n",
    "# thresholding result from nipype\n",
    "file_fsl_nipype = '../file4comparison/step_11_nipype_A_bold_dtype_mcf_thresh_smooth_maths.nii.gz'"
   ]
  },
  {
   "cell_type": "code",
   "execution_count": 27,
   "metadata": {},
   "outputs": [
    {
     "name": "stdout",
     "output_type": "stream",
     "text": [
      "(146, 238955)\n",
      "(146, 238955)\n"
     ]
    }
   ],
   "source": [
    "brain_fsl_gui = Brain_Data(file_fsl_gui).data\n",
    "print(brain_fsl_gui.shape)\n",
    "brain_fsl_nipype = Brain_Data(file_fsl_nipype).data\n",
    "print(brain_fsl_nipype.shape)"
   ]
  },
  {
   "cell_type": "code",
   "execution_count": 28,
   "metadata": {},
   "outputs": [
    {
     "name": "stdout",
     "output_type": "stream",
     "text": [
      "0 out of 34887430 voxels are different\n"
     ]
    }
   ],
   "source": [
    "diff = brain_fsl_gui - brain_fsl_nipype\n",
    "num_of_non_zeros = np.count_nonzero(diff)\n",
    "print(f\"{num_of_non_zeros} out of {diff.size} voxels are different\")"
   ]
  },
  {
   "cell_type": "markdown",
   "metadata": {},
   "source": [
    "####  Version B: FWHM = 5 in Nipype\n",
    "\n",
    "Here we set FWHM = 5 in both Nipype and FSL to demonstrate how different the results will be"
   ]
  },
  {
   "cell_type": "code",
   "execution_count": 29,
   "metadata": {},
   "outputs": [],
   "source": [
    "# smooth result from fsl gui\n",
    "file_fsl_gui = '../file4comparison/step_11_gui_prefiltered_func_data_smooth.nii.gz'\n",
    "\n",
    "# smooth result from nipype\n",
    "file_fsl_nipype = '../file4comparison/step_11_nipype_B_bold_dtype_mcf_thresh_smooth_maths.nii.gz'"
   ]
  },
  {
   "cell_type": "code",
   "execution_count": 30,
   "metadata": {},
   "outputs": [
    {
     "name": "stdout",
     "output_type": "stream",
     "text": [
      "(146, 238955)\n",
      "(146, 238955)\n"
     ]
    }
   ],
   "source": [
    "brain_fsl_gui = Brain_Data(file_fsl_gui).data\n",
    "print(brain_fsl_gui.shape)\n",
    "brain_fsl_nipype = Brain_Data(file_fsl_nipype).data\n",
    "print(brain_fsl_nipype.shape)"
   ]
  },
  {
   "cell_type": "code",
   "execution_count": 31,
   "metadata": {},
   "outputs": [
    {
     "name": "stdout",
     "output_type": "stream",
     "text": [
      "27981621 out of 34887430 voxels are different\n"
     ]
    }
   ],
   "source": [
    "diff = brain_fsl_gui - brain_fsl_nipype\n",
    "num_of_non_zeros = np.count_nonzero(diff)\n",
    "print(f\"{num_of_non_zeros} out of {diff.size} voxels are different\")"
   ]
  },
  {
   "cell_type": "markdown",
   "metadata": {},
   "source": [
    "###  Step 12: Compare the result of intnorm"
   ]
  },
  {
   "cell_type": "markdown",
   "metadata": {},
   "source": [
    "Scale each volume of the run so that the median value of the run is set to 10000\n",
    "\n",
    "\n",
    "In our **nipype** notebook, this corresponds to the node `intnorm`\n",
    "\n",
    "\n",
    "In **fsl**, you can use the command from your fsl logfile, for example:\n",
    "\n",
    "```\n",
    "/usr/local/fsl/bin/fslmaths prefiltered_func_data_smooth -mul 13.7211811425 prefiltered_func_data_intnorm \n",
    "(this number is for subject-11 run-01)\n",
    "\n",
    "```\n",
    "\n",
    "Output file: `prefiltered_func_data_intnorm.nii.gz`"
   ]
  },
  {
   "cell_type": "code",
   "execution_count": 32,
   "metadata": {},
   "outputs": [],
   "source": [
    "# intnorm result from fsl gui\n",
    "file_fsl_gui = '../file4comparison/step_12_gui_prefiltered_func_data_intnorm.nii.gz'\n",
    "\n",
    "# intnorm result from nipype\n",
    "file_fsl_nipype = '../file4comparison/step_12_nipype_bold_dtype_mcf_thresh_smooth_maths_intnorm.nii.gz'"
   ]
  },
  {
   "cell_type": "code",
   "execution_count": 33,
   "metadata": {},
   "outputs": [
    {
     "name": "stdout",
     "output_type": "stream",
     "text": [
      "(146, 238955)\n",
      "(146, 238955)\n"
     ]
    }
   ],
   "source": [
    "brain_fsl_gui = Brain_Data(file_fsl_gui).data\n",
    "print(brain_fsl_gui.shape)\n",
    "brain_fsl_nipype = Brain_Data(file_fsl_nipype).data\n",
    "print(brain_fsl_nipype.shape)"
   ]
  },
  {
   "cell_type": "code",
   "execution_count": 34,
   "metadata": {},
   "outputs": [
    {
     "name": "stdout",
     "output_type": "stream",
     "text": [
      "0 out of 34887430 voxels are different\n"
     ]
    }
   ],
   "source": [
    "diff = brain_fsl_gui - brain_fsl_nipype\n",
    "num_of_non_zeros = np.count_nonzero(diff)\n",
    "print(f\"{num_of_non_zeros} out of {diff.size} voxels are different\")"
   ]
  },
  {
   "cell_type": "markdown",
   "metadata": {},
   "source": [
    "###  Step 13: Compare the result of Temporal Filtering (last step of preproc)"
   ]
  },
  {
   "cell_type": "markdown",
   "metadata": {},
   "source": [
    "13.1: Generate a mean functional image from the scaled data\n",
    "\n",
    "13.2: Perform temporal highpass filtering on the data\n",
    "\n",
    "13.3: Rename `prefiltered_func_data_tempfilt.nii.gz` as `filtered_func_data.nii.gz`\n",
    "\n",
    "\n",
    "In our **nipype** notebook, this corresponds to the node `intnorm`\n",
    "\n",
    "\n",
    "In **fsl**, you can use the command from your fsl logfile, for example:\n",
    "\n",
    "```\n",
    "/usr/local/fsl/bin/fslmaths prefiltered_func_data_intnorm -Tmean tempMean\n",
    "/usr/local/fsl/bin/fslmaths prefiltered_func_data_intnorm -bptf 25.0 -1 -add tempMean prefiltered_func_data_tempfilt\n",
    "/usr/local/fsl/bin/fslmaths prefiltered_func_data_tempfilt filtered_func_data\n",
    "\n",
    "```\n",
    "\n",
    "In **fsl GUI**, it corresponds to\n",
    "\n",
    "![image](https://user-images.githubusercontent.com/20402800/125667188-68e8000e-307b-42e9-804a-c4b6dffa36a5.png)\n",
    "\n",
    "Output file: `filtered_func_data.nii.gz` (**This is our final preoprocessed bold data**)"
   ]
  },
  {
   "cell_type": "markdown",
   "metadata": {},
   "source": [
    "#### 13.1: Generate a mean functional image from the scaled data\n",
    "\n",
    "Output file: `tempMean.nii.gz`\n",
    "\n",
    "<mark>\n",
    "    We did not provide files for this step since this file will be removed at the end of the preprocessing.\n",
    "</mark>"
   ]
  },
  {
   "cell_type": "markdown",
   "metadata": {},
   "source": [
    "#### 13.2 & 13.3: Perform temporal highpass filtering on the data & Rename\n",
    "\n",
    "\n",
    "Output file: `prefiltered_func_data_tempfilt.nii.gz`"
   ]
  },
  {
   "cell_type": "code",
   "execution_count": 35,
   "metadata": {},
   "outputs": [],
   "source": [
    "# thresholding result from fsl gui\n",
    "file_fsl_gui = '../file4comparison/step_13_gui_filtered_func_data.nii.gz'\n",
    "\n",
    "# thresholding result from nipype\n",
    "file_fsl_nipype = '../file4comparison/step_13_nipype_bold_dtype_mcf_thresh_smooth_maths_intnorm_tempfilt.nii.gz'"
   ]
  },
  {
   "cell_type": "code",
   "execution_count": 36,
   "metadata": {},
   "outputs": [
    {
     "name": "stdout",
     "output_type": "stream",
     "text": [
      "(146, 238955)\n",
      "(146, 238955)\n"
     ]
    }
   ],
   "source": [
    "brain_fsl_gui = Brain_Data(file_fsl_gui).data\n",
    "print(brain_fsl_gui.shape)\n",
    "brain_fsl_nipype = Brain_Data(file_fsl_nipype).data\n",
    "print(brain_fsl_nipype.shape)"
   ]
  },
  {
   "cell_type": "code",
   "execution_count": 37,
   "metadata": {},
   "outputs": [
    {
     "name": "stdout",
     "output_type": "stream",
     "text": [
      "0 out of 34887430 voxels are different\n"
     ]
    }
   ],
   "source": [
    "diff = brain_fsl_gui - brain_fsl_nipype\n",
    "num_of_non_zeros = np.count_nonzero(diff)\n",
    "print(f\"{num_of_non_zeros} out of {diff.size} voxels are different\")"
   ]
  },
  {
   "cell_type": "markdown",
   "metadata": {},
   "source": [
    "###  Step 14: Compare the result of meanfunc4"
   ]
  },
  {
   "cell_type": "markdown",
   "metadata": {},
   "source": [
    "Generate a mean functional image from the functional run (**This will be used in glm**)\n",
    "\n",
    "\n",
    "In our **nipype** notebook, this corresponds to the node `meanfunc4`\n",
    "\n",
    "\n",
    "In **fsl**, you can use the command from your fsl logfile, for example:\n",
    "\n",
    "```\n",
    "/usr/local/fsl/bin/fslmaths filtered_func_data -Tmean mean_func\n",
    "\n",
    "```\n",
    "\n",
    "Output file: `mean_func.nii.gz`"
   ]
  },
  {
   "cell_type": "code",
   "execution_count": 38,
   "metadata": {},
   "outputs": [],
   "source": [
    "# meanfunc4 result from fsl gui\n",
    "file_fsl_gui = '../file4comparison/step_14_gui_mean_func.nii.gz'\n",
    "\n",
    "# meanfunc4 result from nipype\n",
    "file_fsl_nipype = '../file4comparison/step_14_nipype_bold_dtype_mcf_thresh_smooth_maths_intnorm_tempfilt_mean.nii.gz'"
   ]
  },
  {
   "cell_type": "code",
   "execution_count": 39,
   "metadata": {},
   "outputs": [
    {
     "name": "stdout",
     "output_type": "stream",
     "text": [
      "(238955,)\n",
      "(238955,)\n"
     ]
    }
   ],
   "source": [
    "brain_fsl_gui = Brain_Data(file_fsl_gui).data\n",
    "print(brain_fsl_gui.shape)\n",
    "brain_fsl_nipype = Brain_Data(file_fsl_nipype).data\n",
    "print(brain_fsl_nipype.shape)"
   ]
  },
  {
   "cell_type": "code",
   "execution_count": 40,
   "metadata": {},
   "outputs": [
    {
     "name": "stdout",
     "output_type": "stream",
     "text": [
      "0 out of 238955 voxels are different\n"
     ]
    }
   ],
   "source": [
    "diff = brain_fsl_gui - brain_fsl_nipype\n",
    "num_of_non_zeros = np.count_nonzero(diff)\n",
    "print(f\"{num_of_non_zeros} out of {diff.size} voxels are different\")"
   ]
  },
  {
   "cell_type": "markdown",
   "metadata": {},
   "source": [
    "## First-level GLM"
   ]
  },
  {
   "cell_type": "markdown",
   "metadata": {},
   "source": [
    "###  Step 15: Compare the result of the First-level GLM"
   ]
  },
  {
   "cell_type": "markdown",
   "metadata": {},
   "source": [
    "#### Vesion A\n",
    "\n",
    "In this version, all parameters are set up correctly."
   ]
  },
  {
   "cell_type": "code",
   "execution_count": 41,
   "metadata": {},
   "outputs": [],
   "source": [
    "# cope result from fsl gui\n",
    "file_fsl_gui = '../file4comparison/step_15_gui_cope1.nii.gz'\n",
    "\n",
    "# cope result from nipype\n",
    "file_fsl_nipype = '../file4comparison/step_15_nipype_A_cope1.nii.gz'"
   ]
  },
  {
   "cell_type": "code",
   "execution_count": 42,
   "metadata": {},
   "outputs": [
    {
     "name": "stdout",
     "output_type": "stream",
     "text": [
      "(238955,)\n",
      "(238955,)\n"
     ]
    }
   ],
   "source": [
    "brain_fsl_gui = Brain_Data(file_fsl_gui).data\n",
    "print(brain_fsl_gui.shape)\n",
    "brain_fsl_nipype = Brain_Data(file_fsl_nipype).data\n",
    "print(brain_fsl_nipype.shape)"
   ]
  },
  {
   "cell_type": "code",
   "execution_count": 43,
   "metadata": {},
   "outputs": [
    {
     "name": "stdout",
     "output_type": "stream",
     "text": [
      "0 out of 238955 voxels are different\n"
     ]
    }
   ],
   "source": [
    "diff = brain_fsl_gui - brain_fsl_nipype\n",
    "num_of_non_zeros = np.count_nonzero(diff)\n",
    "print(f\"{num_of_non_zeros} out of {diff.size} voxels are different\")"
   ]
  },
  {
   "cell_type": "markdown",
   "metadata": {},
   "source": [
    "#### Version B\n",
    "\n",
    "In this version, we compare the first-level result when FWHM = 5 in both Nipype and FSL (see Step 11 for more information)"
   ]
  },
  {
   "cell_type": "code",
   "execution_count": 44,
   "metadata": {},
   "outputs": [],
   "source": [
    "# cope result from fsl gui\n",
    "file_fsl_gui = '../file4comparison/step_15_gui_cope1.nii.gz'\n",
    "\n",
    "# cope result from nipype\n",
    "file_fsl_nipype = '../file4comparison/step_15_nipype_B_cope1.nii.gz'"
   ]
  },
  {
   "cell_type": "code",
   "execution_count": 45,
   "metadata": {},
   "outputs": [
    {
     "name": "stdout",
     "output_type": "stream",
     "text": [
      "(238955,)\n",
      "(238955,)\n"
     ]
    }
   ],
   "source": [
    "brain_fsl_gui = Brain_Data(file_fsl_gui).data\n",
    "print(brain_fsl_gui.shape)\n",
    "brain_fsl_nipype = Brain_Data(file_fsl_nipype).data\n",
    "print(brain_fsl_nipype.shape)"
   ]
  },
  {
   "cell_type": "code",
   "execution_count": 46,
   "metadata": {},
   "outputs": [
    {
     "name": "stdout",
     "output_type": "stream",
     "text": [
      "223069 out of 238955 voxels are different\n"
     ]
    }
   ],
   "source": [
    "diff = brain_fsl_gui - brain_fsl_nipype\n",
    "num_of_non_zeros = np.count_nonzero(diff)\n",
    "print(f\"{num_of_non_zeros} out of {diff.size} voxels are different\")"
   ]
  },
  {
   "cell_type": "code",
   "execution_count": 47,
   "metadata": {},
   "outputs": [
    {
     "data": {
      "text/plain": [
       "Text(0, 0.5, 'Difference')"
      ]
     },
     "execution_count": 47,
     "metadata": {},
     "output_type": "execute_result"
    },
    {
     "data": {
      "image/png": "[encoded data removed]",
      "text/plain": [
       "<Figure size 1440x720 with 1 Axes>"
      ]
     },
     "metadata": {
      "needs_background": "light"
     },
     "output_type": "display_data"
    }
   ],
   "source": [
    "plt.figure(figsize=(20,10))\n",
    "plt.plot(diff, linestyle='-', color='orange')\n",
    "plt.xlabel(\"Voxel\", fontsize=16)\n",
    "plt.ylabel(\"Difference\", fontsize=16)\n",
    "# plt.savefig(\"../figures/comparison_FWHM_5.jpeg\",dpi=600)"
   ]
  },
  {
   "cell_type": "markdown",
   "metadata": {},
   "source": [
    "## Second-level GLM"
   ]
  },
  {
   "cell_type": "markdown",
   "metadata": {},
   "source": [
    "This part, we compare results of `sub-02` from FSL GUI and Nipype"
   ]
  },
  {
   "cell_type": "markdown",
   "metadata": {},
   "source": [
    "### Step 16: Compare the result of Registration"
   ]
  },
  {
   "cell_type": "markdown",
   "metadata": {},
   "source": [
    "Before the second-level GLM, we need to register outputs from the first level into a standardized space."
   ]
  },
  {
   "cell_type": "code",
   "execution_count": 48,
   "metadata": {},
   "outputs": [],
   "source": [
    "# standardized cope result from fsl gui\n",
    "file_fsl_gui = '../file4comparison/step_16_gui_cope1.nii.gz'\n",
    "\n",
    "# standardized cope result from nipype\n",
    "file_fsl_nipype = '../file4comparison/step_16_nipype_cope1_flirt.nii.gz'"
   ]
  },
  {
   "cell_type": "code",
   "execution_count": 49,
   "metadata": {},
   "outputs": [
    {
     "name": "stdout",
     "output_type": "stream",
     "text": [
      "(238955,)\n",
      "(238955,)\n"
     ]
    }
   ],
   "source": [
    "brain_fsl_gui = Brain_Data(file_fsl_gui).data\n",
    "print(brain_fsl_gui.shape)\n",
    "brain_fsl_nipype = Brain_Data(file_fsl_nipype).data\n",
    "print(brain_fsl_nipype.shape)"
   ]
  },
  {
   "cell_type": "code",
   "execution_count": 50,
   "metadata": {},
   "outputs": [
    {
     "name": "stdout",
     "output_type": "stream",
     "text": [
      "0 out of 238955 voxels are different\n"
     ]
    }
   ],
   "source": [
    "diff = brain_fsl_gui - brain_fsl_nipype\n",
    "num_of_non_zeros = np.count_nonzero(diff)\n",
    "print(f\"{num_of_non_zeros} out of {diff.size} voxels are different\")"
   ]
  },
  {
   "cell_type": "markdown",
   "metadata": {},
   "source": [
    "#### 16.2 compare example_func2highres & highres2standard\n",
    "\n",
    "`example_func2highres.mat` & `highres2example_func.mat`\n",
    "\n",
    "4X4 matrices, eyeball they are the same.\n",
    "\n",
    "**Corresponding FSL command:**\n",
    "\n",
    "```\n",
    "/usr/local/fsl/bin/flirt -in example_func -ref highres -out example_func2highres -omat example_func2highres.mat -cost corratio -dof 12 -searchrx -180 180 -searchry -180 180 -searchrz -180 180 -interp trilinear \n",
    "\n",
    "/usr/local/fsl/bin/convert_xfm -inverse -omat highres2example_func.mat example_func2highres.mat\n",
    "```\n",
    "\n",
    "`standard2highres.mat` & `highres2standard.mat`\n",
    "\n",
    "4X4 matrices, eyeball they are the same.\n",
    "\n",
    "**Corresponding FSL command:**\n",
    "\n",
    "```\n",
    "/usr/local/fsl/bin/flirt -in highres -ref standard -out highres2standard -omat highres2standard.mat -cost corratio -dof 12 -searchrx -180 180 -searchry -180 180 -searchrz -180 180 -interp trilinear \n",
    "\n",
    "/usr/local/fsl/bin/convert_xfm -inverse -omat standard2highres.mat highres2standard.mat\n",
    "```"
   ]
  },
  {
   "cell_type": "markdown",
   "metadata": {},
   "source": [
    "### Step 17: Compare the result of the Second-level GLM"
   ]
  },
  {
   "cell_type": "code",
   "execution_count": 51,
   "metadata": {},
   "outputs": [],
   "source": [
    "# res4d result from fsl gui\n",
    "file_fsl_gui = '../file4comparison/step_17_gui_cope1.nii.gz'\n",
    "\n",
    "# meanfunc4 result from nipype\n",
    "file_fsl_nipype = '../file4comparison/step_17_nipype_cope1.nii.gz'"
   ]
  },
  {
   "cell_type": "code",
   "execution_count": 52,
   "metadata": {},
   "outputs": [
    {
     "name": "stdout",
     "output_type": "stream",
     "text": [
      "(238955,)\n",
      "(238955,)\n"
     ]
    }
   ],
   "source": [
    "brain_fsl_gui = Brain_Data(file_fsl_gui).data\n",
    "print(brain_fsl_gui.shape)\n",
    "brain_fsl_nipype = Brain_Data(file_fsl_nipype).data\n",
    "print(brain_fsl_nipype.shape)"
   ]
  },
  {
   "cell_type": "code",
   "execution_count": 53,
   "metadata": {},
   "outputs": [
    {
     "name": "stdout",
     "output_type": "stream",
     "text": [
      "0 out of 238955 voxels are different\n"
     ]
    }
   ],
   "source": [
    "diff = brain_fsl_gui - brain_fsl_nipype\n",
    "num_of_non_zeros = np.count_nonzero(diff)\n",
    "print(f\"{num_of_non_zeros} out of {diff.size} voxels are different\")"
   ]
  },
  {
   "cell_type": "markdown",
   "metadata": {},
   "source": [
    "##  Third-level GLM"
   ]
  },
  {
   "cell_type": "markdown",
   "metadata": {},
   "source": [
    "Here we use the output from the third contrast as an example."
   ]
  },
  {
   "cell_type": "markdown",
   "metadata": {},
   "source": [
    "### Step 18: Compare the result of the Third-level GLM"
   ]
  },
  {
   "cell_type": "code",
   "execution_count": 54,
   "metadata": {},
   "outputs": [
    {
     "name": "stdout",
     "output_type": "stream",
     "text": [
      "(238955,)\n",
      "(238955,)\n"
     ]
    }
   ],
   "source": [
    "file_fsl_gui = '../file4comparison/step_18_gui_cope1.nii.gz'\n",
    "brain_fsl_gui = Brain_Data(file_fsl_gui).data\n",
    "print(brain_fsl_gui.shape)\n",
    "file_fsl_nipype = '../file4comparison/step_18_nipype_cope1.nii.gz'\n",
    "brain_fsl_nipype = Brain_Data(file_fsl_nipype).data\n",
    "print(brain_fsl_nipype.shape)"
   ]
  },
  {
   "cell_type": "code",
   "execution_count": 55,
   "metadata": {},
   "outputs": [
    {
     "name": "stdout",
     "output_type": "stream",
     "text": [
      "0 out of 238955 voxels are different\n"
     ]
    }
   ],
   "source": [
    "diff = brain_fsl_gui - brain_fsl_nipype\n",
    "num_of_non_zeros = np.count_nonzero(diff)\n",
    "print(f\"{num_of_non_zeros} out of {diff.size} voxels are different\")"
   ]
  },
  {
   "cell_type": "markdown",
   "metadata": {},
   "source": [
    "### Step 19: Compare the thresholded results"
   ]
  },
  {
   "cell_type": "code",
   "execution_count": 56,
   "metadata": {},
   "outputs": [
    {
     "name": "stdout",
     "output_type": "stream",
     "text": [
      "(238955,)\n",
      "(238955,)\n"
     ]
    }
   ],
   "source": [
    "file_fsl_gui = '../file4comparison/step_19_gui_thresh_zstat1.nii.gz'\n",
    "brain_fsl_gui = Brain_Data(file_fsl_gui).data\n",
    "print(brain_fsl_gui.shape)\n",
    "file_fsl_nipype = '../file4comparison/step_19_nipype_zstat1_maths_threshold.nii.gz'\n",
    "brain_fsl_nipype = Brain_Data(file_fsl_nipype).data\n",
    "print(brain_fsl_nipype.shape)"
   ]
  },
  {
   "cell_type": "code",
   "execution_count": 57,
   "metadata": {},
   "outputs": [
    {
     "name": "stdout",
     "output_type": "stream",
     "text": [
      "0 out of 238955 voxels are different\n"
     ]
    }
   ],
   "source": [
    "diff = brain_fsl_gui - brain_fsl_nipype\n",
    "num_of_non_zeros = np.count_nonzero(diff)\n",
    "print(f\"{num_of_non_zeros} out of {diff.size} voxels are different\")"
   ]
  }
 ],
 "metadata": {
  "kernelspec": {
   "display_name": "Python 3",
   "language": "python",
   "name": "python3"
  },
  "language_info": {
   "codemirror_mode": {
    "name": "ipython",
    "version": 3
   },
   "file_extension": ".py",
   "mimetype": "text/x-python",
   "name": "python",
   "nbconvert_exporter": "python",
   "pygments_lexer": "ipython3",
   "version": "3.7.9"
  }
 },
 "nbformat": 4,
 "nbformat_minor": 4
}
