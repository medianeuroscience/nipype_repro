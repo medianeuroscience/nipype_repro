{
 "cells": [
  {
   "cell_type": "markdown",
   "id": "78fee7a8-1138-401d-b553-d27a4d0440b2",
   "metadata": {},
   "source": [
    "# Third-level GLM using Nipype FSL\n",
    "\n",
    "Notebook compiled by Yibei Chen\n",
    "\n",
    "In this notebook, we recreate the whole preprocess of FSL GUI using nipype code. For each nipype node, we list the corresponding fsl command from the log file. The dataset we use is a Flanker task, which can be downloaded [here](https://openneuro.org/datasets/ds000102/versions/00001).\n",
    "\n",
    "We also borrow some helps from this [document](https://nipype.readthedocs.io/en/latest/users/examples/fmri_fsl.html). "
   ]
  },
  {
   "cell_type": "markdown",
   "id": "d6ea15a9-4068-4a36-b21b-08ee5aaa3e02",
   "metadata": {},
   "source": [
    "## Preparation\n",
    "Import all the relevant libraries needed for the preprocessing stage."
   ]
  },
  {
   "cell_type": "code",
   "execution_count": 1,
   "id": "b8e147b1-7794-49ad-8b27-ca733b2dd1f8",
   "metadata": {
    "tags": []
   },
   "outputs": [
    {
     "data": {
      "application/javascript": [
       "IPython.notebook.set_autosave_interval(5000)"
      ]
     },
     "metadata": {},
     "output_type": "display_data"
    },
    {
     "name": "stdout",
     "output_type": "stream",
     "text": [
      "Autosaving every 5 seconds\n"
     ]
    }
   ],
   "source": [
    "from __future__ import print_function\n",
    "from __future__ import division\n",
    "from builtins import str\n",
    "from builtins import range\n",
    "\n",
    "import os, stat  # system functions\n",
    "import getpass\n",
    "from glob import glob\n",
    "\n",
    "import numpy as np\n",
    "from nipype import Function\n",
    "import nipype.interfaces.io as nio  # Data i/o\n",
    "import nipype.interfaces.fsl as fsl  # fsl\n",
    "import nipype.interfaces.utility as util  # utility\n",
    "import nipype.pipeline.engine as pe  # pypeline engine\n",
    "import nipype.algorithms.modelgen as model  # model generation\n",
    "import nipype.algorithms.rapidart as ra  # artifact detection\n",
    "\n",
    "%autosave 5"
   ]
  },
  {
   "cell_type": "markdown",
   "id": "c1dcbbc9-63ab-4813-8e40-0aa3461126fe",
   "metadata": {},
   "source": [
    "Set up data path"
   ]
  },
  {
   "cell_type": "code",
   "execution_count": 2,
   "id": "f0d25146-ac4a-4eef-92fe-00ff95007be4",
   "metadata": {},
   "outputs": [
    {
     "name": "stdout",
     "output_type": "stream",
     "text": [
      "Running code as:  yc\n",
      "[Errno 17] File exists: '/home/yc/out/fsl/hw2/'\n"
     ]
    }
   ],
   "source": [
    "# Get current user\n",
    "user = getpass.getuser()\n",
    "print('Running code as: ', user)\n",
    "\n",
    "# Input: Set the second-level result path\n",
    "data_dir = '/home/{}/out/fsl/hw2/level2_results/'.format(user)\n",
    "# Output: Set path where nipype will store stepwise results\n",
    "exp_dir = '/home/{}/out/fsl/hw2/'.format(user)\n",
    "\n",
    "try:\n",
    "    os.mkdir(exp_dir)\n",
    "except OSError as error:\n",
    "    print(error)\n",
    "    \n",
    "    \n",
    "# Grant root write access to our output files \n",
    "os.chmod(exp_dir, os.stat(exp_dir).st_mode | ((stat.S_IRWXU | stat.S_IRWXO)))"
   ]
  },
  {
   "cell_type": "markdown",
   "id": "d5fe00bb-a866-4a79-a1ad-a51f85577292",
   "metadata": {},
   "source": [
    "Start the workflow"
   ]
  },
  {
   "cell_type": "code",
   "execution_count": 3,
   "id": "2ee247f0-6f48-407d-8645-43aa2049d3a0",
   "metadata": {},
   "outputs": [],
   "source": [
    "wf = pe.Workflow(name='level3', base_dir=exp_dir)\n",
    "wf.config[\"execution\"][\"crashfile_format\"] = \"txt\""
   ]
  },
  {
   "cell_type": "markdown",
   "id": "23f1beef-a042-4ed7-86be-fbf48ec724ed",
   "metadata": {},
   "source": [
    "The following two nodes (`infosource` & `dg`) together define all inputs required for the preprocessing workflow"
   ]
  },
  {
   "cell_type": "code",
   "execution_count": 4,
   "id": "70dbe60c-bc82-4f84-81bc-76f473738d63",
   "metadata": {},
   "outputs": [],
   "source": [
    "# we want to group the outcome by contrast not subject\n",
    "contr_list = [1,2,3,4]\n",
    "infosource = pe.Node(util.IdentityInterface(fields=[\"contr_id\"]),\n",
    "                  name=\"infosource\")\n",
    "infosource.iterables = [(\"contr_id\", contr_list)]"
   ]
  },
  {
   "cell_type": "code",
   "execution_count": 5,
   "id": "cc034c4f-58b8-459d-87e3-206ab4630820",
   "metadata": {
    "tags": []
   },
   "outputs": [],
   "source": [
    "# here we use SelectFiles, instead of DataGrabber, because the former is more flexible with formatting syntax\n",
    "templates = {\n",
    "    \"copes\":\"contrast_{contr_id}/*/_contr_id_{contr_id}/*/cope*.nii.gz\",\n",
    "    \"varcopes\":\"contrast_{contr_id}/*/_contr_id_{contr_id}/*/varcope*.nii.gz\",\n",
    "    \"masks\":\"contrast_{contr_id}/*/_contr_id_{contr_id}/*/mask.nii.gz\"\n",
    "}\n",
    "dg = pe.Node(interface=nio.SelectFiles(templates),\n",
    "             name=\"selectfiles\")\n",
    "dg.inputs.base_directory = data_dir\n",
    "\n",
    "wf.connect([\n",
    "        (infosource, dg, [(\"contr_id\", \"contr_id\")])\n",
    "])"
   ]
  },
  {
   "cell_type": "markdown",
   "id": "ba3a9cfb-5ab2-4878-9bb9-dfe9f4ed596c",
   "metadata": {},
   "source": [
    "## Third-level GLM\n",
    "\n",
    "Combining results from multiple runs of one subject into one"
   ]
  },
  {
   "cell_type": "markdown",
   "id": "50d34664-90aa-4a11-9b06-9641ce98e315",
   "metadata": {},
   "source": [
    "### Higher-level input files preparation"
   ]
  },
  {
   "cell_type": "markdown",
   "id": "a5208beb-fbd8-437c-b97e-5f1e1af88c3b",
   "metadata": {},
   "source": [
    "#### Step 1: Merge registered copes & varcopes & masks\n",
    "\n",
    "\n",
    "**Corresponding FSL command:**\n",
    "```\n",
    "/usr/local/fsl/bin/fslmerge -t mask (masks from all 26 inputs)\n",
    "/usr/local/fsl/bin/fslmerge -t cope (copes from all 26 inputs)\n",
    "/usr/local/fsl/bin/fslmerge -t varcop (varcopes from all 26 inputs)\n",
    "```"
   ]
  },
  {
   "cell_type": "code",
   "execution_count": 6,
   "id": "8990385c-bb3f-4b39-a751-92a5798710bd",
   "metadata": {
    "tags": []
   },
   "outputs": [],
   "source": [
    "copemerge = pe.Node(\n",
    "    interface=fsl.Merge(dimension='t'),\n",
    "    iterfield=['in_files'],\n",
    "    name=\"copemerge\")\n",
    "\n",
    "varcopemerge = pe.Node(\n",
    "    interface=fsl.Merge(dimension='t'),\n",
    "    iterfield=['in_files'],\n",
    "    name=\"varcopemerge\")\n",
    "\n",
    "maskmerge = pe.Node(\n",
    "    interface=fsl.Merge(dimension='t'),\n",
    "    iterfield=['in_files'],\n",
    "    name=\"maskmerge\")\n",
    "\n",
    "\n",
    "def repeat_mask(file):\n",
    "    n_sub = 26\n",
    "    import numpy as np\n",
    "    mask_lst = [file]\n",
    "    repeated = np.repeat(mask_lst,26)\n",
    "    return list(repeated)\n",
    "\n",
    "\n",
    "wf.connect(dg, 'copes', copemerge, 'in_files')\n",
    "wf.connect(dg, 'varcopes', varcopemerge, 'in_files')\n",
    "wf.connect(dg, ('masks',repeat_mask), maskmerge, 'in_files')"
   ]
  },
  {
   "cell_type": "markdown",
   "id": "5d7317d9-356f-4fd3-8f83-57f050b5c2f7",
   "metadata": {},
   "source": [
    "#### Step 2: Making mask\n",
    "\n",
    "In FSL, there are many commands about `maskunique`, which is unless for the second level. We can ignore it.\n",
    "\n",
    "**Corresponding FSL command:**\n",
    "```\n",
    "/usr/local/fsl/bin/fslmaths mask -Tmin mask\n",
    "```"
   ]
  },
  {
   "cell_type": "code",
   "execution_count": 7,
   "id": "f6c011d1-8efe-4ce1-998f-3829df5f89a6",
   "metadata": {
    "tags": []
   },
   "outputs": [],
   "source": [
    "# /usr/local/fsl/bin/fslmaths mask -Tmin mask\n",
    "minmask = pe.Node(\n",
    "    interface=fsl.ImageMaths(op_string='-Tmin'),\n",
    "    iterfield=['in_file'],\n",
    "    name='minmask')\n",
    "\n",
    "wf.connect(maskmerge, 'merged_file', minmask, 'in_file')\n"
   ]
  },
  {
   "cell_type": "markdown",
   "id": "af92e952-14d4-4934-b0bf-9c5ecda0ea9f",
   "metadata": {},
   "source": [
    "#### Step 3: Masking copes & varcopes\n",
    "\n",
    "**Corresponding FSL command:**\n",
    "\n",
    "we have four contrasts so the following commands repeat four times\n",
    "\n",
    "```\n",
    "/usr/local/fsl/bin/fslmaths cope1 -mas mask cope1\n",
    "/usr/local/fsl/bin/fslmaths varcope1 -mas mask varcope1\n",
    "```"
   ]
  },
  {
   "cell_type": "code",
   "execution_count": 8,
   "id": "81d8f964-e418-4b1e-9394-31c9fae57995",
   "metadata": {
    "tags": []
   },
   "outputs": [],
   "source": [
    "maskcope = pe.Node(\n",
    "    interface=fsl.ImageMaths(op_string='-mas'),\n",
    "    iterfield=['in_file', 'in_file2'],\n",
    "    name='maskcope')\n",
    "\n",
    "maskvarcope = pe.Node(\n",
    "    interface=fsl.ImageMaths(op_string='-mas'),\n",
    "    iterfield=['in_file', 'in_file2'],\n",
    "    name='maskvarcope')\n",
    "\n",
    "wf.connect(copemerge, 'merged_file', maskcope, 'in_file')\n",
    "wf.connect(minmask, 'out_file', maskcope, 'in_file2')\n",
    "wf.connect(varcopemerge, 'merged_file', maskvarcope, 'in_file')\n",
    "wf.connect(minmask, 'out_file', maskvarcope, 'in_file2')"
   ]
  },
  {
   "cell_type": "markdown",
   "id": "2a23597c-c82c-4114-9118-9f3e08025f55",
   "metadata": {},
   "source": [
    "### Set up second-level contrasts and mixed-effects"
   ]
  },
  {
   "cell_type": "markdown",
   "id": "cbe301ff-f928-488f-aa25-99a2b2739bb5",
   "metadata": {},
   "source": [
    "Since we only have a single-group set-up, we can actually use [L2Model](https://nipype.readthedocs.io/en/latest/api/generated/nipype.interfaces.fsl.model.html#l2model).\n",
    "If we have an ANOVA-like design, using [MultipleRegressDesign](https://nipype.readthedocs.io/en/latest/api/generated/nipype.interfaces.fsl.model.html#multipleregressdesign) would be a better option."
   ]
  },
  {
   "cell_type": "code",
   "execution_count": 9,
   "id": "1f5bc11a-cbc5-40b5-be80-74b9efb7021e",
   "metadata": {
    "tags": []
   },
   "outputs": [],
   "source": [
    "def num_copes(files):\n",
    "    return len(files)\n",
    "\n",
    "level3model = pe.Node(interface=fsl.L2Model(), name='l3model')\n",
    "wf.connect(dg, ('copes',num_copes), level3model, 'num_copes')"
   ]
  },
  {
   "cell_type": "code",
   "execution_count": 10,
   "id": "9294bf8f-7788-41d9-be64-eeef04afced6",
   "metadata": {},
   "outputs": [],
   "source": [
    "level3estimate = pe.Node(\n",
    "    interface=fsl.FLAMEO(run_mode='flame1'),\n",
    "    name=\"level3estimate\",\n",
    "    iterfield=['cope_file', 'var_cope_file'])\n",
    "\n",
    "wf.connect([\n",
    "    (maskcope, level3estimate, [('out_file', 'cope_file')]),\n",
    "    (maskvarcope, level3estimate, [('out_file', 'var_cope_file')]),\n",
    "    (minmask, level3estimate, [('out_file', 'mask_file')]),\n",
    "    (level3model, level3estimate, [('design_mat', 'design_file'),\n",
    "                                   ('design_con', 't_con_file'), \n",
    "                                   ('design_grp', 'cov_split_file')]),\n",
    "])"
   ]
  },
  {
   "cell_type": "code",
   "execution_count": 11,
   "id": "a40ccf04-92f6-430c-9b06-f8e034cf457a",
   "metadata": {},
   "outputs": [],
   "source": [
    "datasink = pe.Node(nio.DataSink(), name='sinker')\n",
    "datasink.inputs.base_directory=os.path.join(exp_dir, \"level3_results\")\n",
    "\n",
    "int2string = lambda x: 'contrast_'+str(x)\n",
    "    \n",
    "wf.connect(infosource, ('contr_id',int2string), datasink, 'container')\n",
    "wf.connect([(level3estimate, datasink, [('stats_dir', 'stats_dir')])])"
   ]
  },
  {
   "cell_type": "code",
   "execution_count": 13,
   "id": "1874cc75-9c16-4cc2-b6a8-bade0505be02",
   "metadata": {
    "collapsed": true,
    "jupyter": {
     "outputs_hidden": true
    },
    "tags": []
   },
   "outputs": [
    {
     "name": "stdout",
     "output_type": "stream",
     "text": [
      "211209-04:15:34,148 nipype.workflow INFO:\n",
      "\t Workflow level3 settings: ['check', 'execution', 'logging', 'monitoring']\n",
      "211209-04:15:34,185 nipype.workflow INFO:\n",
      "\t Running in parallel.\n",
      "211209-04:15:34,187 nipype.workflow INFO:\n",
      "\t [MultiProc] Running 0 tasks, and 4 jobs ready. Free memory (GB): 27.96/27.96, Free processors: 8/8.\n",
      "211209-04:15:34,260 nipype.workflow INFO:\n",
      "\t [Node] Setting-up \"level3.selectfiles\" in \"/home/yc/out/fsl/hw2/level3/_contr_id_4/selectfiles\".\n",
      "211209-04:15:34,262 nipype.workflow INFO:\n",
      "\t [Node] Setting-up \"level3.selectfiles\" in \"/home/yc/out/fsl/hw2/level3/_contr_id_3/selectfiles\".\n",
      "211209-04:15:34,264 nipype.workflow INFO:\n",
      "\t [Node] Setting-up \"level3.selectfiles\" in \"/home/yc/out/fsl/hw2/level3/_contr_id_2/selectfiles\".\n",
      "211209-04:15:34,267 nipype.workflow INFO:\n",
      "\t [Node] Setting-up \"level3.selectfiles\" in \"/home/yc/out/fsl/hw2/level3/_contr_id_1/selectfiles\".\n",
      "211209-04:15:34,288 nipype.workflow INFO:\n",
      "\t [Node] Running \"selectfiles\" (\"nipype.interfaces.io.SelectFiles\")\n",
      "211209-04:15:34,301 nipype.workflow INFO:\n",
      "\t [Node] Running \"selectfiles\" (\"nipype.interfaces.io.SelectFiles\")\n",
      "211209-04:15:34,315 nipype.workflow INFO:\n",
      "\t [Node] Finished \"level3.selectfiles\".\n",
      "211209-04:15:34,353 nipype.workflow INFO:\n",
      "\t [Node] Finished \"level3.selectfiles\".\n",
      "211209-04:15:34,355 nipype.workflow INFO:\n",
      "\t [Node] Running \"selectfiles\" (\"nipype.interfaces.io.SelectFiles\")\n",
      "211209-04:15:34,388 nipype.workflow INFO:\n",
      "\t [Node] Running \"selectfiles\" (\"nipype.interfaces.io.SelectFiles\")\n",
      "211209-04:15:34,394 nipype.workflow INFO:\n",
      "\t [Node] Finished \"level3.selectfiles\".\n",
      "211209-04:15:34,429 nipype.workflow INFO:\n",
      "\t [Node] Finished \"level3.selectfiles\".\n",
      "211209-04:15:36,190 nipype.workflow INFO:\n",
      "\t [Job 0] Completed (level3.selectfiles).\n",
      "211209-04:15:36,191 nipype.workflow INFO:\n",
      "\t [Job 10] Completed (level3.selectfiles).\n",
      "211209-04:15:36,192 nipype.workflow INFO:\n",
      "\t [Job 20] Completed (level3.selectfiles).\n",
      "211209-04:15:36,193 nipype.workflow INFO:\n",
      "\t [Job 30] Completed (level3.selectfiles).\n",
      "211209-04:15:36,194 nipype.workflow INFO:\n",
      "\t [MultiProc] Running 0 tasks, and 16 jobs ready. Free memory (GB): 27.96/27.96, Free processors: 8/8.\n",
      "211209-04:15:36,249 nipype.workflow INFO:\n",
      "\t [Node] Setting-up \"level3.l3model\" in \"/home/yc/out/fsl/hw2/level3/_contr_id_4/l3model\".\n",
      "211209-04:15:36,253 nipype.workflow INFO:\n",
      "\t [Job 2] Cached (level3.maskmerge).\n",
      "211209-04:15:36,257 nipype.workflow INFO:\n",
      "\t [Job 4] Cached (level3.varcopemerge).\n",
      "211209-04:15:36,261 nipype.workflow INFO:\n",
      "\t [Job 6] Cached (level3.copemerge).\n",
      "211209-04:15:36,261 nipype.workflow INFO:\n",
      "\t [Node] Running \"l3model\" (\"nipype.interfaces.fsl.model.L2Model\")\n",
      "211209-04:15:36,266 nipype.workflow INFO:\n",
      "\t [Job 12] Cached (level3.maskmerge).\n",
      "211209-04:15:36,270 nipype.workflow INFO:\n",
      "\t [Job 14] Cached (level3.varcopemerge).\n",
      "211209-04:15:36,274 nipype.workflow INFO:\n",
      "\t [Job 16] Cached (level3.copemerge).\n",
      "211209-04:15:36,300 nipype.workflow INFO:\n",
      "\t [Node] Finished \"level3.l3model\".\n",
      "211209-04:15:36,263 nipype.workflow INFO:\n",
      "\t [Node] Setting-up \"level3.l3model\" in \"/home/yc/out/fsl/hw2/level3/_contr_id_3/l3model\".\n",
      "211209-04:15:36,338 nipype.workflow INFO:\n",
      "\t [Node] Running \"l3model\" (\"nipype.interfaces.fsl.model.L2Model\")\n",
      "211209-04:15:36,443 nipype.workflow INFO:\n",
      "\t [Node] Finished \"level3.l3model\".\n",
      "211209-04:15:38,191 nipype.workflow INFO:\n",
      "\t [Job 1] Completed (level3.l3model).\n",
      "211209-04:15:38,192 nipype.workflow INFO:\n",
      "\t [Job 11] Completed (level3.l3model).\n",
      "211209-04:15:38,193 nipype.workflow INFO:\n",
      "\t [MultiProc] Running 0 tasks, and 10 jobs ready. Free memory (GB): 27.96/27.96, Free processors: 8/8.\n",
      "211209-04:15:38,237 nipype.workflow INFO:\n",
      "\t [Job 3] Cached (level3.minmask).\n",
      "211209-04:15:38,240 nipype.workflow INFO:\n",
      "\t [Job 13] Cached (level3.minmask).\n",
      "211209-04:15:38,245 nipype.workflow INFO:\n",
      "\t [Job 22] Cached (level3.maskmerge).\n",
      "211209-04:15:38,250 nipype.workflow INFO:\n",
      "\t [Job 24] Cached (level3.varcopemerge).\n",
      "211209-04:15:38,254 nipype.workflow INFO:\n",
      "\t [Job 26] Cached (level3.copemerge).\n",
      "211209-04:15:38,265 nipype.workflow INFO:\n",
      "\t [Job 32] Cached (level3.maskmerge).\n",
      "211209-04:15:38,243 nipype.workflow INFO:\n",
      "\t [Node] Setting-up \"level3.l3model\" in \"/home/yc/out/fsl/hw2/level3/_contr_id_2/l3model\".\n",
      "211209-04:15:38,257 nipype.workflow INFO:\n",
      "\t [Node] Setting-up \"level3.l3model\" in \"/home/yc/out/fsl/hw2/level3/_contr_id_1/l3model\".\n",
      "211209-04:15:38,323 nipype.workflow INFO:\n",
      "\t [Node] Running \"l3model\" (\"nipype.interfaces.fsl.model.L2Model\")\n",
      "211209-04:15:38,337 nipype.workflow INFO:\n",
      "\t [Node] Running \"l3model\" (\"nipype.interfaces.fsl.model.L2Model\")\n",
      "211209-04:15:38,385 nipype.workflow INFO:\n",
      "\t [Node] Finished \"level3.l3model\".\n",
      "211209-04:15:38,387 nipype.workflow INFO:\n",
      "\t [Node] Finished \"level3.l3model\".\n",
      "211209-04:15:40,193 nipype.workflow INFO:\n",
      "\t [Job 21] Completed (level3.l3model).\n",
      "211209-04:15:40,194 nipype.workflow INFO:\n",
      "\t [Job 31] Completed (level3.l3model).\n",
      "211209-04:15:40,195 nipype.workflow INFO:\n",
      "\t [MultiProc] Running 0 tasks, and 8 jobs ready. Free memory (GB): 27.96/27.96, Free processors: 8/8.\n",
      "211209-04:15:40,240 nipype.workflow INFO:\n",
      "\t [Node] Outdated cache found for \"level3.maskvarcope\".\n",
      "211209-04:15:40,243 nipype.workflow INFO:\n",
      "\t [Node] Setting-up \"level3.maskvarcope\" in \"/home/yc/out/fsl/hw2/level3/_contr_id_4/maskvarcope\".\n",
      "211209-04:15:40,244 nipype.workflow INFO:\n",
      "\t [Node] Outdated cache found for \"level3.maskcope\".\n",
      "211209-04:15:40,244 nipype.workflow INFO:\n",
      "\t [Node] Outdated cache found for \"level3.maskvarcope\".\n",
      "211209-04:15:40,247 nipype.workflow INFO:\n",
      "\t [Node] Setting-up \"level3.maskcope\" in \"/home/yc/out/fsl/hw2/level3/_contr_id_4/maskcope\".\n",
      "211209-04:15:40,248 nipype.workflow INFO:\n",
      "\t [Node] Outdated cache found for \"level3.maskcope\".\n",
      "211209-04:15:40,249 nipype.workflow INFO:\n",
      "\t [Node] Outdated cache found for \"level3.maskvarcope\".\n",
      "211209-04:15:40,251 nipype.workflow INFO:\n",
      "\t [Node] Setting-up \"level3.maskvarcope\" in \"/home/yc/out/fsl/hw2/level3/_contr_id_3/maskvarcope\".\n",
      "211209-04:15:40,252 nipype.workflow INFO:\n",
      "\t [Node] Outdated cache found for \"level3.maskvarcope\".\n",
      "211209-04:15:40,254 nipype.workflow INFO:\n",
      "\t [Node] Outdated cache found for \"level3.maskcope\".\n",
      "211209-04:15:40,256 nipype.workflow INFO:\n",
      "\t [Node] Setting-up \"level3.maskcope\" in \"/home/yc/out/fsl/hw2/level3/_contr_id_3/maskcope\".\n",
      "211209-04:15:40,257 nipype.workflow INFO:\n",
      "\t [Job 23] Cached (level3.minmask).\n",
      "211209-04:15:40,257 nipype.workflow INFO:\n",
      "\t [Node] Outdated cache found for \"level3.maskcope\".\n",
      "211209-04:15:40,261 nipype.workflow INFO:\n",
      "\t [Job 33] Cached (level3.minmask).\n",
      "211209-04:15:40,265 nipype.workflow INFO:\n",
      "\t [Job 34] Cached (level3.varcopemerge).\n",
      "211209-04:15:40,268 nipype.workflow INFO:\n",
      "\t [Job 36] Cached (level3.copemerge).\n",
      "211209-04:15:40,287 nipype.workflow INFO:\n",
      "\t [Node] Running \"maskcope\" (\"nipype.interfaces.fsl.utils.ImageMaths\"), a CommandLine Interface with command:\n",
      "fslmaths /home/yc/out/fsl/hw2/level3/_contr_id_3/copemerge/cope1_merged.nii.gz -mas /home/yc/out/fsl/hw2/level3/_contr_id_3/minmask/mask_merged_maths.nii.gz /home/yc/out/fsl/hw2/level3/_contr_id_3/maskcope/cope1_merged_maths.nii.gz\n",
      "211209-04:15:40,332 nipype.workflow INFO:\n",
      "\t [Node] Running \"maskcope\" (\"nipype.interfaces.fsl.utils.ImageMaths\"), a CommandLine Interface with command:\n",
      "fslmaths /home/yc/out/fsl/hw2/level3/_contr_id_4/copemerge/cope1_merged.nii.gz -mas /home/yc/out/fsl/hw2/level3/_contr_id_4/minmask/mask_merged_maths.nii.gz /home/yc/out/fsl/hw2/level3/_contr_id_4/maskcope/cope1_merged_maths.nii.gz\n",
      "211209-04:15:40,367 nipype.workflow INFO:\n",
      "\t [Node] Running \"maskvarcope\" (\"nipype.interfaces.fsl.utils.ImageMaths\"), a CommandLine Interface with command:\n",
      "fslmaths /home/yc/out/fsl/hw2/level3/_contr_id_4/varcopemerge/varcope1_merged.nii.gz -mas /home/yc/out/fsl/hw2/level3/_contr_id_4/minmask/mask_merged_maths.nii.gz /home/yc/out/fsl/hw2/level3/_contr_id_4/maskvarcope/varcope1_merged_maths.nii.gz\n",
      "211209-04:15:40,407 nipype.workflow INFO:\n",
      "\t [Node] Running \"maskvarcope\" (\"nipype.interfaces.fsl.utils.ImageMaths\"), a CommandLine Interface with command:\n",
      "fslmaths /home/yc/out/fsl/hw2/level3/_contr_id_3/varcopemerge/varcope1_merged.nii.gz -mas /home/yc/out/fsl/hw2/level3/_contr_id_3/minmask/mask_merged_maths.nii.gz /home/yc/out/fsl/hw2/level3/_contr_id_3/maskvarcope/varcope1_merged_maths.nii.gz\n",
      "211209-04:15:42,195 nipype.workflow INFO:\n",
      "\t [MultiProc] Running 4 tasks, and 4 jobs ready. Free memory (GB): 27.16/27.96, Free processors: 4/8.\n",
      "                     Currently running:\n",
      "                       * level3.maskcope\n",
      "                       * level3.maskvarcope\n",
      "                       * level3.maskcope\n",
      "                       * level3.maskvarcope\n",
      "211209-04:15:42,289 nipype.workflow INFO:\n",
      "\t [Node] Outdated cache found for \"level3.maskvarcope\".\n",
      "211209-04:15:42,291 nipype.workflow INFO:\n",
      "\t [Node] Setting-up \"level3.maskvarcope\" in \"/home/yc/out/fsl/hw2/level3/_contr_id_2/maskvarcope\".\n",
      "211209-04:15:42,292 nipype.workflow INFO:\n",
      "\t [Node] Outdated cache found for \"level3.maskvarcope\".\n",
      "211209-04:15:42,293 nipype.workflow INFO:\n",
      "\t [Node] Outdated cache found for \"level3.maskcope\".\n",
      "211209-04:15:42,295 nipype.workflow INFO:\n",
      "\t [Node] Setting-up \"level3.maskcope\" in \"/home/yc/out/fsl/hw2/level3/_contr_id_2/maskcope\".\n",
      "211209-04:15:42,296 nipype.workflow INFO:\n",
      "\t [Node] Outdated cache found for \"level3.maskcope\".\n",
      "211209-04:15:42,297 nipype.workflow INFO:\n",
      "\t [Node] Outdated cache found for \"level3.maskvarcope\".\n",
      "211209-04:15:42,300 nipype.workflow INFO:\n",
      "\t [Node] Setting-up \"level3.maskvarcope\" in \"/home/yc/out/fsl/hw2/level3/_contr_id_1/maskvarcope\".\n",
      "211209-04:15:42,301 nipype.workflow INFO:\n",
      "\t [Node] Outdated cache found for \"level3.maskvarcope\".\n",
      "211209-04:15:42,302 nipype.workflow INFO:\n",
      "\t [Node] Outdated cache found for \"level3.maskcope\".\n",
      "211209-04:15:42,304 nipype.workflow INFO:\n",
      "\t [Node] Setting-up \"level3.maskcope\" in \"/home/yc/out/fsl/hw2/level3/_contr_id_1/maskcope\".\n",
      "211209-04:15:42,309 nipype.workflow INFO:\n",
      "\t [Node] Outdated cache found for \"level3.maskcope\".\n",
      "211209-04:15:42,320 nipype.workflow INFO:\n",
      "\t [Node] Running \"maskcope\" (\"nipype.interfaces.fsl.utils.ImageMaths\"), a CommandLine Interface with command:\n",
      "fslmaths /home/yc/out/fsl/hw2/level3/_contr_id_2/copemerge/cope1_merged.nii.gz -mas /home/yc/out/fsl/hw2/level3/_contr_id_2/minmask/mask_merged_maths.nii.gz /home/yc/out/fsl/hw2/level3/_contr_id_2/maskcope/cope1_merged_maths.nii.gz\n",
      "211209-04:15:42,359 nipype.workflow INFO:\n",
      "\t [Node] Running \"maskvarcope\" (\"nipype.interfaces.fsl.utils.ImageMaths\"), a CommandLine Interface with command:\n",
      "fslmaths /home/yc/out/fsl/hw2/level3/_contr_id_2/varcopemerge/varcope1_merged.nii.gz -mas /home/yc/out/fsl/hw2/level3/_contr_id_2/minmask/mask_merged_maths.nii.gz /home/yc/out/fsl/hw2/level3/_contr_id_2/maskvarcope/varcope1_merged_maths.nii.gz\n",
      "211209-04:15:42,376 nipype.workflow INFO:\n",
      "\t [Node] Running \"maskcope\" (\"nipype.interfaces.fsl.utils.ImageMaths\"), a CommandLine Interface with command:\n",
      "fslmaths /home/yc/out/fsl/hw2/level3/_contr_id_1/copemerge/cope1_merged.nii.gz -mas /home/yc/out/fsl/hw2/level3/_contr_id_1/minmask/mask_merged_maths.nii.gz /home/yc/out/fsl/hw2/level3/_contr_id_1/maskcope/cope1_merged_maths.nii.gz\n",
      "211209-04:15:42,381 nipype.workflow INFO:\n",
      "\t [Node] Finished \"level3.maskcope\".\n",
      "211209-04:15:42,403 nipype.workflow INFO:\n",
      "\t [Node] Running \"maskvarcope\" (\"nipype.interfaces.fsl.utils.ImageMaths\"), a CommandLine Interface with command:\n",
      "fslmaths /home/yc/out/fsl/hw2/level3/_contr_id_1/varcopemerge/varcope1_merged.nii.gz -mas /home/yc/out/fsl/hw2/level3/_contr_id_1/minmask/mask_merged_maths.nii.gz /home/yc/out/fsl/hw2/level3/_contr_id_1/maskvarcope/varcope1_merged_maths.nii.gz\n",
      "211209-04:15:42,443 nipype.workflow INFO:\n",
      "\t [Node] Finished \"level3.maskvarcope\".\n",
      "211209-04:15:42,453 nipype.workflow INFO:\n",
      "\t [Node] Finished \"level3.maskvarcope\".\n",
      "211209-04:15:42,538 nipype.workflow INFO:\n",
      "\t [Node] Finished \"level3.maskcope\".\n",
      "211209-04:15:44,196 nipype.workflow INFO:\n",
      "\t [Job 5] Completed (level3.maskvarcope).\n",
      "211209-04:15:44,198 nipype.workflow INFO:\n",
      "\t [Job 7] Completed (level3.maskcope).\n",
      "211209-04:15:44,198 nipype.workflow INFO:\n",
      "\t [Job 15] Completed (level3.maskvarcope).\n",
      "211209-04:15:44,199 nipype.workflow INFO:\n",
      "\t [Job 17] Completed (level3.maskcope).\n",
      "211209-04:15:44,200 nipype.workflow INFO:\n",
      "\t [MultiProc] Running 4 tasks, and 2 jobs ready. Free memory (GB): 27.16/27.96, Free processors: 4/8.\n",
      "                     Currently running:\n",
      "                       * level3.maskcope\n",
      "                       * level3.maskvarcope\n",
      "                       * level3.maskcope\n",
      "                       * level3.maskvarcope\n",
      "211209-04:15:44,245 nipype.workflow INFO:\n",
      "\t [Node] Setting-up \"level3.level3estimate\" in \"/home/yc/out/fsl/hw2/level3/_contr_id_4/level3estimate\".\n",
      "211209-04:15:44,245 nipype.workflow INFO:\n",
      "\t [Node] Setting-up \"level3.level3estimate\" in \"/home/yc/out/fsl/hw2/level3/_contr_id_3/level3estimate\".\n",
      "211209-04:15:44,328 nipype.workflow INFO:\n",
      "\t [Node] Running \"level3estimate\" (\"nipype.interfaces.fsl.model.FLAMEO\"), a CommandLine Interface with command:\n",
      "flameo --copefile=/home/yc/out/fsl/hw2/level3/_contr_id_3/maskcope/cope1_merged_maths.nii.gz --covsplitfile=/home/yc/out/fsl/hw2/level3/_contr_id_3/l3model/design.grp --designfile=/home/yc/out/fsl/hw2/level3/_contr_id_3/l3model/design.mat --ld=stats --maskfile=/home/yc/out/fsl/hw2/level3/_contr_id_3/minmask/mask_merged_maths.nii.gz --runmode=flame1 --tcontrastsfile=/home/yc/out/fsl/hw2/level3/_contr_id_3/l3model/design.con --varcopefile=/home/yc/out/fsl/hw2/level3/_contr_id_3/maskvarcope/varcope1_merged_maths.nii.gz\n",
      "211209-04:15:44,408 nipype.workflow INFO:\n",
      "\t [Node] Running \"level3estimate\" (\"nipype.interfaces.fsl.model.FLAMEO\"), a CommandLine Interface with command:\n",
      "flameo --copefile=/home/yc/out/fsl/hw2/level3/_contr_id_4/maskcope/cope1_merged_maths.nii.gz --covsplitfile=/home/yc/out/fsl/hw2/level3/_contr_id_4/l3model/design.grp --designfile=/home/yc/out/fsl/hw2/level3/_contr_id_4/l3model/design.mat --ld=stats --maskfile=/home/yc/out/fsl/hw2/level3/_contr_id_4/minmask/mask_merged_maths.nii.gz --runmode=flame1 --tcontrastsfile=/home/yc/out/fsl/hw2/level3/_contr_id_4/l3model/design.con --varcopefile=/home/yc/out/fsl/hw2/level3/_contr_id_4/maskvarcope/varcope1_merged_maths.nii.gz\n",
      "211209-04:15:44,411 nipype.workflow INFO:\n",
      "\t [Node] Finished \"level3.maskvarcope\".\n",
      "211209-04:15:44,449 nipype.workflow INFO:\n",
      "\t [Node] Finished \"level3.maskvarcope\".\n",
      "211209-04:15:44,461 nipype.workflow INFO:\n",
      "\t [Node] Finished \"level3.maskcope\".\n",
      "211209-04:15:44,469 nipype.workflow INFO:\n",
      "\t [Node] Finished \"level3.maskcope\".\n",
      "211209-04:15:46,199 nipype.workflow INFO:\n",
      "\t [Job 25] Completed (level3.maskvarcope).\n",
      "211209-04:15:46,200 nipype.workflow INFO:\n",
      "\t [Job 27] Completed (level3.maskcope).\n",
      "211209-04:15:46,201 nipype.workflow INFO:\n",
      "\t [Job 35] Completed (level3.maskvarcope).\n",
      "211209-04:15:46,202 nipype.workflow INFO:\n",
      "\t [Job 37] Completed (level3.maskcope).\n",
      "211209-04:15:46,204 nipype.workflow INFO:\n",
      "\t [MultiProc] Running 2 tasks, and 2 jobs ready. Free memory (GB): 27.56/27.96, Free processors: 6/8.\n",
      "                     Currently running:\n",
      "                       * level3.level3estimate\n",
      "                       * level3.level3estimate\n",
      "211209-04:15:46,256 nipype.workflow INFO:\n",
      "\t [Node] Setting-up \"level3.level3estimate\" in \"/home/yc/out/fsl/hw2/level3/_contr_id_1/level3estimate\".\n",
      "211209-04:15:46,256 nipype.workflow INFO:\n",
      "\t [Node] Setting-up \"level3.level3estimate\" in \"/home/yc/out/fsl/hw2/level3/_contr_id_2/level3estimate\".\n",
      "211209-04:15:46,271 nipype.workflow INFO:\n",
      "\t [Node] Running \"level3estimate\" (\"nipype.interfaces.fsl.model.FLAMEO\"), a CommandLine Interface with command:\n",
      "flameo --copefile=/home/yc/out/fsl/hw2/level3/_contr_id_1/maskcope/cope1_merged_maths.nii.gz --covsplitfile=/home/yc/out/fsl/hw2/level3/_contr_id_1/l3model/design.grp --designfile=/home/yc/out/fsl/hw2/level3/_contr_id_1/l3model/design.mat --ld=stats --maskfile=/home/yc/out/fsl/hw2/level3/_contr_id_1/minmask/mask_merged_maths.nii.gz --runmode=flame1 --tcontrastsfile=/home/yc/out/fsl/hw2/level3/_contr_id_1/l3model/design.con --varcopefile=/home/yc/out/fsl/hw2/level3/_contr_id_1/maskvarcope/varcope1_merged_maths.nii.gz\n",
      "211209-04:15:46,271 nipype.workflow INFO:\n",
      "\t [Node] Running \"level3estimate\" (\"nipype.interfaces.fsl.model.FLAMEO\"), a CommandLine Interface with command:\n",
      "flameo --copefile=/home/yc/out/fsl/hw2/level3/_contr_id_2/maskcope/cope1_merged_maths.nii.gz --covsplitfile=/home/yc/out/fsl/hw2/level3/_contr_id_2/l3model/design.grp --designfile=/home/yc/out/fsl/hw2/level3/_contr_id_2/l3model/design.mat --ld=stats --maskfile=/home/yc/out/fsl/hw2/level3/_contr_id_2/minmask/mask_merged_maths.nii.gz --runmode=flame1 --tcontrastsfile=/home/yc/out/fsl/hw2/level3/_contr_id_2/l3model/design.con --varcopefile=/home/yc/out/fsl/hw2/level3/_contr_id_2/maskvarcope/varcope1_merged_maths.nii.gz\n",
      "211209-04:15:48,201 nipype.workflow INFO:\n",
      "\t [MultiProc] Running 4 tasks, and 0 jobs ready. Free memory (GB): 27.16/27.96, Free processors: 4/8.\n",
      "                     Currently running:\n",
      "                       * level3.level3estimate\n",
      "                       * level3.level3estimate\n",
      "                       * level3.level3estimate\n",
      "                       * level3.level3estimate\n",
      "211209-04:16:36,625 nipype.workflow INFO:\n",
      "\t [Node] Finished \"level3.level3estimate\".\n",
      "211209-04:16:36,626 nipype.workflow INFO:\n",
      "\t [Node] Finished \"level3.level3estimate\".\n",
      "211209-04:16:36,678 nipype.workflow INFO:\n",
      "\t [Node] Finished \"level3.level3estimate\".\n",
      "211209-04:16:37,905 nipype.workflow INFO:\n",
      "\t [Node] Finished \"level3.level3estimate\".\n",
      "211209-04:16:38,251 nipype.workflow INFO:\n",
      "\t [Job 8] Completed (level3.level3estimate).\n",
      "211209-04:16:38,252 nipype.workflow INFO:\n",
      "\t [Job 18] Completed (level3.level3estimate).\n",
      "211209-04:16:38,253 nipype.workflow INFO:\n",
      "\t [Job 28] Completed (level3.level3estimate).\n",
      "211209-04:16:38,254 nipype.workflow INFO:\n",
      "\t [Job 38] Completed (level3.level3estimate).\n",
      "211209-04:16:38,255 nipype.workflow INFO:\n",
      "\t [MultiProc] Running 0 tasks, and 4 jobs ready. Free memory (GB): 27.96/27.96, Free processors: 8/8.\n",
      "211209-04:16:38,300 nipype.workflow INFO:\n",
      "\t [Node] Setting-up \"level3.sinker\" in \"/home/yc/out/fsl/hw2/level3/_contr_id_4/sinker\".\n",
      "211209-04:16:38,301 nipype.workflow INFO:\n",
      "\t [Node] Setting-up \"level3.sinker\" in \"/home/yc/out/fsl/hw2/level3/_contr_id_3/sinker\".\n",
      "211209-04:16:38,302 nipype.workflow INFO:\n",
      "\t [Node] Setting-up \"level3.sinker\" in \"/home/yc/out/fsl/hw2/level3/_contr_id_2/sinker\".\n",
      "211209-04:16:38,303 nipype.workflow INFO:\n",
      "\t [Node] Setting-up \"level3.sinker\" in \"/home/yc/out/fsl/hw2/level3/_contr_id_1/sinker\".\n",
      "211209-04:16:38,312 nipype.workflow INFO:\n",
      "\t [Node] Running \"sinker\" (\"nipype.interfaces.io.DataSink\")\n",
      "211209-04:16:38,312 nipype.workflow INFO:\n",
      "\t [Node] Running \"sinker\" (\"nipype.interfaces.io.DataSink\")\n",
      "211209-04:16:38,313 nipype.workflow INFO:\n",
      "\t [Node] Running \"sinker\" (\"nipype.interfaces.io.DataSink\")\n",
      "211209-04:16:38,315 nipype.workflow INFO:\n",
      "\t [Node] Running \"sinker\" (\"nipype.interfaces.io.DataSink\")\n",
      "211209-04:16:40,254 nipype.workflow INFO:\n",
      "\t [MultiProc] Running 4 tasks, and 0 jobs ready. Free memory (GB): 27.16/27.96, Free processors: 4/8.\n",
      "                     Currently running:\n",
      "                       * level3.sinker\n",
      "                       * level3.sinker\n",
      "                       * level3.sinker\n",
      "                       * level3.sinker\n",
      "211209-04:16:43,545 nipype.workflow INFO:\n",
      "\t [Node] Finished \"level3.sinker\".\n",
      "211209-04:16:43,802 nipype.workflow INFO:\n",
      "\t [Node] Finished \"level3.sinker\".\n",
      "211209-04:16:43,865 nipype.workflow INFO:\n",
      "\t [Node] Finished \"level3.sinker\".\n",
      "211209-04:16:43,905 nipype.workflow INFO:\n",
      "\t [Node] Finished \"level3.sinker\".\n",
      "211209-04:16:44,257 nipype.workflow INFO:\n",
      "\t [Job 9] Completed (level3.sinker).\n",
      "211209-04:16:44,258 nipype.workflow INFO:\n",
      "\t [Job 19] Completed (level3.sinker).\n",
      "211209-04:16:44,259 nipype.workflow INFO:\n",
      "\t [Job 29] Completed (level3.sinker).\n",
      "211209-04:16:44,260 nipype.workflow INFO:\n",
      "\t [Job 39] Completed (level3.sinker).\n",
      "211209-04:16:44,261 nipype.workflow INFO:\n",
      "\t [MultiProc] Running 0 tasks, and 0 jobs ready. Free memory (GB): 27.96/27.96, Free processors: 8/8.\n"
     ]
    },
    {
     "data": {
      "text/plain": [
       "<networkx.classes.digraph.DiGraph at 0x7f9e6692ce50>"
      ]
     },
     "execution_count": 13,
     "metadata": {},
     "output_type": "execute_result"
    }
   ],
   "source": [
    "# Run Workflow\n",
    "wf.run(plugin=\"MultiProc\", plugin_args={\"n_procs\": 8})"
   ]
  },
  {
   "cell_type": "code",
   "execution_count": null,
   "id": "e58f132e-1691-42bf-872b-e1b93e9ab9c2",
   "metadata": {},
   "outputs": [],
   "source": []
  }
 ],
 "metadata": {
  "kernelspec": {
   "display_name": "Python 3",
   "language": "python",
   "name": "python3"
  },
  "language_info": {
   "codemirror_mode": {
    "name": "ipython",
    "version": 3
   },
   "file_extension": ".py",
   "mimetype": "text/x-python",
   "name": "python",
   "nbconvert_exporter": "python",
   "pygments_lexer": "ipython3",
   "version": "3.7.10"
  }
 },
 "nbformat": 4,
 "nbformat_minor": 5
}
