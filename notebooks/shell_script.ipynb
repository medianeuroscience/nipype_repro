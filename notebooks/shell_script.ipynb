{
 "cells": [
  {
   "cell_type": "markdown",
   "id": "216581cb-9ea5-4dd8-b6f4-63a5822277f8",
   "metadata": {},
   "source": [
    "# Bash Command for FSL (Post-preprocessing)"
   ]
  },
  {
   "cell_type": "markdown",
   "id": "47458ccb-a921-47e2-aad9-bf37daebf396",
   "metadata": {},
   "source": [
    "The content in this notebook serves for the first part of `nipype_fsl_comp.ipynb`, generated when conducting the first-level GLM.\n",
    "\n",
    "Since FSL overwrites outputs and only produces the final results, we used the corresponding `bash` commands to generate stepwise outputs.\n",
    "\n",
    "The following `bash` commands were copied from FSL log of `sub-11`. To get step-wise results, execute the following bash step by step (one line per time, comment out the other lines)"
   ]
  },
  {
   "cell_type": "code",
   "execution_count": 2,
   "id": "dcc76a53-effd-45d6-ae3b-a74497d18a0d",
   "metadata": {
    "tags": []
   },
   "outputs": [
    {
     "name": "stdout",
     "output_type": "stream",
     "text": [
      "0.000000 873.492249 \n",
      "728.800232 \n"
     ]
    },
    {
     "name": "stderr",
     "output_type": "stream",
     "text": [
      "/bin/mv: cannot move 'prefiltered_func_data_mcf.mat' to 'mc/prefiltered_func_data_mcf.mat': File exists\n",
      "Could not open matrix file prefiltered_func_data_mcf.par\n",
      "terminate called after throwing an instance of 'std::logic_error'\n",
      "  what():  Mat::max(): object has no elements\n",
      "bash: line 15: 47647 Aborted                 (core dumped) /opt/fsl-6.0.4/bin/fsl_tsplot -i prefiltered_func_data_mcf.par -t 'MCFLIRT estimated rotations (radians)' -u 1 --start=1 --finish=3 -a x,y,z -w 640 -h 144 -o rot.png\n",
      "Could not open matrix file prefiltered_func_data_mcf.par\n",
      "terminate called after throwing an instance of 'std::logic_error'\n",
      "  what():  Mat::max(): object has no elements\n",
      "bash: line 17: 47648 Aborted                 (core dumped) /opt/fsl-6.0.4/bin/fsl_tsplot -i prefiltered_func_data_mcf.par -t 'MCFLIRT estimated translations (mm)' -u 1 --start=4 --finish=6 -a x,y,z -w 640 -h 144 -o trans.png\n",
      "Could not open matrix file prefiltered_func_data_mcf_abs.rms\n",
      "Could not open matrix file prefiltered_func_data_mcf_rel.rms\n",
      "terminate called after throwing an instance of 'std::logic_error'\n",
      "  what():  Mat::max(): object has no elements\n",
      "bash: line 19: 47649 Aborted                 (core dumped) /opt/fsl-6.0.4/bin/fsl_tsplot -i prefiltered_func_data_mcf_abs.rms,prefiltered_func_data_mcf_rel.rms -t 'MCFLIRT estimated mean displacement (mm)' -u 1 -w 640 -h 144 -a absolute,relative -o disp.png\n"
     ]
    }
   ],
   "source": [
    "%%bash\n",
    "#!/bin/bash\n",
    "\n",
    "# specify your output directory\n",
    "cd {path}\n",
    "\n",
    "# replace /usr/local/fsl/ with your own fsl path, the curret path is the default on Linux. Here we use FSL version 6.0.4\n",
    "/usr/local/fsl/bin/fslmaths {path}/sub-11/func/sub-11_task-flanker_run-1_bold prefiltered_func_data -odt float\n",
    "\n",
    "/usr/local/fsl/bin/fslroi prefiltered_func_data example_func 73 1\n",
    "\n",
    "/usr/local/fsl/bin/mcflirt -in prefiltered_func_data -out prefiltered_func_data_mcf -mats -plots -reffile example_func -rmsrel -rmsabs -spline_final\n",
    "\n",
    "/bin/mkdir -p mc ; /bin/mv -f prefiltered_func_data_mcf.mat prefiltered_func_data_mcf.par prefiltered_func_data_mcf_abs.rms prefiltered_func_data_mcf_abs_mean.rms prefiltered_func_data_mcf_rel.rms prefiltered_func_data_mcf_rel_mean.rms mc\n",
    "\n",
    "/usr/local/fsl/bin/fsl_tsplot -i prefiltered_func_data_mcf.par -t 'MCFLIRT estimated rotations (radians)' -u 1 --start=1 --finish=3 -a x,y,z -w 640 -h 144 -o rot.png \n",
    "\n",
    "/usr/local/fsl/bin/fsl_tsplot -i prefiltered_func_data_mcf.par -t 'MCFLIRT estimated translations (mm)' -u 1 --start=4 --finish=6 -a x,y,z -w 640 -h 144 -o trans.png \n",
    "\n",
    "/usr/local/fsl/bin/fsl_tsplot -i prefiltered_func_data_mcf_abs.rms,prefiltered_func_data_mcf_rel.rms -t 'MCFLIRT estimated mean displacement (mm)' -u 1 -w 640 -h 144 -a absolute,relative -o disp.png \n",
    "\n",
    "/usr/local/fsl/bin/fslmaths prefiltered_func_data_mcf -Tmean mean_func\n",
    "\n",
    "/usr/local/fsl/bin/bet2 mean_func mask -f 0.3 -n -m; /opt/fsl-6.0.4/bin/immv mask_mask mask\n",
    "\n",
    "/usr/local/fsl/bin/fslmaths prefiltered_func_data_mcf -mas mask prefiltered_func_data_bet\n",
    "\n",
    "/usr/local/fsl/bin/fslstats prefiltered_func_data_bet -p 2 -p 98\n",
    "\n",
    "/usr/local/fsl/bin/fslmaths prefiltered_func_data_bet -thr 87.3492249 -Tmin -bin mask -odt char\n",
    "\n",
    "/usr/local/fsl/bin/fslstats prefiltered_func_data_mcf -k mask -p 50\n",
    "\n",
    "/usr/local/fsl/bin/fslmaths mask -dilF mask\n",
    "\n",
    "/usr/local/fsl/bin/fslmaths prefiltered_func_data_mcf -mas mask prefiltered_func_data_thresh\n",
    "\n",
    "/usr/local/fsl/bin/fslmaths prefiltered_func_data_thresh -Tmean mean_func\n",
    "\n",
    "/usr/local/fsl/bin/susan prefiltered_func_data_thresh 546.600174 2.12314225053 3 1 1 mean_func 546.600174 prefiltered_func_data_smooth\n",
    "\n",
    "/usr/local/fsl/bin/fslmaths prefiltered_func_data_smooth -mas mask prefiltered_func_data_smooth\n",
    "\n",
    "/usr/local/fsl/bin/fslmaths prefiltered_func_data_smooth -mul 13.7211811425 prefiltered_func_data_intnorm\n",
    "\n",
    "/usr/local/fsl/bin/fslmaths prefiltered_func_data_intnorm -Tmean tempMean\n",
    "\n",
    "/usr/local/fsl/bin/fslmaths prefiltered_func_data_intnorm -bptf 25.0 -1 -add tempMean prefiltered_func_data_tempfilt\n",
    "\n",
    "/usr/local/fsl/bin/imrm tempMean\n",
    "\n",
    "/usr/local/fsl/bin/fslmaths prefiltered_func_data_tempfilt filtered_func_data\n",
    "\n",
    "/usr/local/fsl/bin/fslmaths filtered_func_data -Tmean mean_func\n",
    "\n",
    "# /bin/rm -rf prefiltered_func_data*"
   ]
  },
  {
   "cell_type": "code",
   "execution_count": null,
   "id": "addb0d3f-5242-4d4b-939a-30b3581b00b9",
   "metadata": {},
   "outputs": [],
   "source": []
  }
 ],
 "metadata": {
  "kernelspec": {
   "display_name": "Python 3",
   "language": "python",
   "name": "python3"
  },
  "language_info": {
   "codemirror_mode": {
    "name": "ipython",
    "version": 3
   },
   "file_extension": ".py",
   "mimetype": "text/x-python",
   "name": "python",
   "nbconvert_exporter": "python",
   "pygments_lexer": "ipython3",
   "version": "3.7.10"
  }
 },
 "nbformat": 4,
 "nbformat_minor": 5
}
